{
 "cells": [
  {
   "cell_type": "markdown",
   "metadata": {},
   "source": [
    "# Sistem za preporuku filmova zasnovan na kolaborativnom filtriranju"
   ]
  },
  {
   "cell_type": "markdown",
   "metadata": {},
   "source": [
    "U ovom delu bavimo se izgradnjom sistema za preporuku koji je zasnovan na kolaborativnom filtriranju (eng. *collaborative filtering*). Ocene filmova se predviđaju na osnovu sličnosti među korisnicima (*user-based collaborative filtering*), odnosno među filmovima (*item-based collaborative filtering*). Preporučuju se oni filmovi za koje je predviđena ocena najviša. Učitajmo i pripremimo najpre neophodne podatke."
   ]
  },
  {
   "cell_type": "code",
   "execution_count": 197,
   "metadata": {},
   "outputs": [],
   "source": [
    "import numpy as np\n",
    "import pandas as pd\n",
    "import matplotlib.pyplot as plt\n",
    "%matplotlib inline\n",
    "from sklearn.metrics.pairwise import cosine_similarity\n",
    "from sklearn.model_selection import train_test_split\n",
    "from ast import literal_eval\n",
    "from scipy import sparse as sps\n",
    "from sklearn.metrics import mean_squared_error\n",
    "import math\n",
    "from scipy.sparse.linalg import svds\n",
    "\n",
    "import warnings; warnings.simplefilter('ignore')"
   ]
  },
  {
   "cell_type": "code",
   "execution_count": 2,
   "metadata": {},
   "outputs": [
    {
     "data": {
      "text/html": [
       "<div>\n",
       "<style scoped>\n",
       "    .dataframe tbody tr th:only-of-type {\n",
       "        vertical-align: middle;\n",
       "    }\n",
       "\n",
       "    .dataframe tbody tr th {\n",
       "        vertical-align: top;\n",
       "    }\n",
       "\n",
       "    .dataframe thead th {\n",
       "        text-align: right;\n",
       "    }\n",
       "</style>\n",
       "<table border=\"1\" class=\"dataframe\">\n",
       "  <thead>\n",
       "    <tr style=\"text-align: right;\">\n",
       "      <th></th>\n",
       "      <th>id</th>\n",
       "      <th>title</th>\n",
       "    </tr>\n",
       "  </thead>\n",
       "  <tbody>\n",
       "    <tr>\n",
       "      <th>0</th>\n",
       "      <td>862</td>\n",
       "      <td>Toy Story</td>\n",
       "    </tr>\n",
       "    <tr>\n",
       "      <th>1</th>\n",
       "      <td>8844</td>\n",
       "      <td>Jumanji</td>\n",
       "    </tr>\n",
       "    <tr>\n",
       "      <th>2</th>\n",
       "      <td>15602</td>\n",
       "      <td>Grumpier Old Men</td>\n",
       "    </tr>\n",
       "    <tr>\n",
       "      <th>3</th>\n",
       "      <td>31357</td>\n",
       "      <td>Waiting to Exhale</td>\n",
       "    </tr>\n",
       "    <tr>\n",
       "      <th>4</th>\n",
       "      <td>11862</td>\n",
       "      <td>Father of the Bride Part II</td>\n",
       "    </tr>\n",
       "  </tbody>\n",
       "</table>\n",
       "</div>"
      ],
      "text/plain": [
       "      id                        title\n",
       "0    862                    Toy Story\n",
       "1   8844                      Jumanji\n",
       "2  15602             Grumpier Old Men\n",
       "3  31357            Waiting to Exhale\n",
       "4  11862  Father of the Bride Part II"
      ]
     },
     "execution_count": 2,
     "metadata": {},
     "output_type": "execute_result"
    }
   ],
   "source": [
    "movies = pd.read_csv('the-movies-dataset/movies_metadata.csv',usecols=['id','title'])\n",
    "movies.head()"
   ]
  },
  {
   "cell_type": "code",
   "execution_count": 3,
   "metadata": {},
   "outputs": [
    {
     "data": {
      "text/html": [
       "<div>\n",
       "<style scoped>\n",
       "    .dataframe tbody tr th:only-of-type {\n",
       "        vertical-align: middle;\n",
       "    }\n",
       "\n",
       "    .dataframe tbody tr th {\n",
       "        vertical-align: top;\n",
       "    }\n",
       "\n",
       "    .dataframe thead th {\n",
       "        text-align: right;\n",
       "    }\n",
       "</style>\n",
       "<table border=\"1\" class=\"dataframe\">\n",
       "  <thead>\n",
       "    <tr style=\"text-align: right;\">\n",
       "      <th></th>\n",
       "      <th>userId</th>\n",
       "      <th>movieId</th>\n",
       "      <th>rating</th>\n",
       "    </tr>\n",
       "  </thead>\n",
       "  <tbody>\n",
       "    <tr>\n",
       "      <th>0</th>\n",
       "      <td>1</td>\n",
       "      <td>31</td>\n",
       "      <td>2.5</td>\n",
       "    </tr>\n",
       "    <tr>\n",
       "      <th>1</th>\n",
       "      <td>1</td>\n",
       "      <td>1029</td>\n",
       "      <td>3.0</td>\n",
       "    </tr>\n",
       "    <tr>\n",
       "      <th>2</th>\n",
       "      <td>1</td>\n",
       "      <td>1061</td>\n",
       "      <td>3.0</td>\n",
       "    </tr>\n",
       "    <tr>\n",
       "      <th>3</th>\n",
       "      <td>1</td>\n",
       "      <td>1129</td>\n",
       "      <td>2.0</td>\n",
       "    </tr>\n",
       "    <tr>\n",
       "      <th>4</th>\n",
       "      <td>1</td>\n",
       "      <td>1172</td>\n",
       "      <td>4.0</td>\n",
       "    </tr>\n",
       "  </tbody>\n",
       "</table>\n",
       "</div>"
      ],
      "text/plain": [
       "   userId  movieId  rating\n",
       "0       1       31     2.5\n",
       "1       1     1029     3.0\n",
       "2       1     1061     3.0\n",
       "3       1     1129     2.0\n",
       "4       1     1172     4.0"
      ]
     },
     "execution_count": 3,
     "metadata": {},
     "output_type": "execute_result"
    }
   ],
   "source": [
    "ratings = pd.read_csv('the-movies-dataset/ratings_small.csv',usecols=['userId','movieId','rating'])\n",
    "ratings.head()"
   ]
  },
  {
   "cell_type": "markdown",
   "metadata": {},
   "source": [
    "## 1. KNN pristup "
   ]
  },
  {
   "cell_type": "markdown",
   "metadata": {},
   "source": [
    "Koristićemo algoritam K najbližih suseda. Podaci treba da budu u formi $m x n$ matrice, gde je $m$ broj filmova a $n$ broj korisnika. Primenjujemo funkciju **pivot** na dataFrame *ratings*. Zatim popunjavamo nedostajuće podatke nulama. Tako dobijamo novi dataFrame koji ćemo nazvati *ratings_pivot*."
   ]
  },
  {
   "cell_type": "code",
   "execution_count": 4,
   "metadata": {},
   "outputs": [
    {
     "data": {
      "text/html": [
       "<div>\n",
       "<style scoped>\n",
       "    .dataframe tbody tr th:only-of-type {\n",
       "        vertical-align: middle;\n",
       "    }\n",
       "\n",
       "    .dataframe tbody tr th {\n",
       "        vertical-align: top;\n",
       "    }\n",
       "\n",
       "    .dataframe thead th {\n",
       "        text-align: right;\n",
       "    }\n",
       "</style>\n",
       "<table border=\"1\" class=\"dataframe\">\n",
       "  <thead>\n",
       "    <tr style=\"text-align: right;\">\n",
       "      <th>movieId</th>\n",
       "      <th>1</th>\n",
       "      <th>2</th>\n",
       "      <th>3</th>\n",
       "      <th>4</th>\n",
       "      <th>5</th>\n",
       "      <th>6</th>\n",
       "      <th>7</th>\n",
       "      <th>8</th>\n",
       "      <th>9</th>\n",
       "      <th>10</th>\n",
       "      <th>...</th>\n",
       "      <th>161084</th>\n",
       "      <th>161155</th>\n",
       "      <th>161594</th>\n",
       "      <th>161830</th>\n",
       "      <th>161918</th>\n",
       "      <th>161944</th>\n",
       "      <th>162376</th>\n",
       "      <th>162542</th>\n",
       "      <th>162672</th>\n",
       "      <th>163949</th>\n",
       "    </tr>\n",
       "    <tr>\n",
       "      <th>userId</th>\n",
       "      <th></th>\n",
       "      <th></th>\n",
       "      <th></th>\n",
       "      <th></th>\n",
       "      <th></th>\n",
       "      <th></th>\n",
       "      <th></th>\n",
       "      <th></th>\n",
       "      <th></th>\n",
       "      <th></th>\n",
       "      <th></th>\n",
       "      <th></th>\n",
       "      <th></th>\n",
       "      <th></th>\n",
       "      <th></th>\n",
       "      <th></th>\n",
       "      <th></th>\n",
       "      <th></th>\n",
       "      <th></th>\n",
       "      <th></th>\n",
       "      <th></th>\n",
       "    </tr>\n",
       "  </thead>\n",
       "  <tbody>\n",
       "    <tr>\n",
       "      <th>1</th>\n",
       "      <td>0.0</td>\n",
       "      <td>0.0</td>\n",
       "      <td>0.0</td>\n",
       "      <td>0.0</td>\n",
       "      <td>0.0</td>\n",
       "      <td>0.0</td>\n",
       "      <td>0.0</td>\n",
       "      <td>0.0</td>\n",
       "      <td>0.0</td>\n",
       "      <td>0.0</td>\n",
       "      <td>...</td>\n",
       "      <td>0.0</td>\n",
       "      <td>0.0</td>\n",
       "      <td>0.0</td>\n",
       "      <td>0.0</td>\n",
       "      <td>0.0</td>\n",
       "      <td>0.0</td>\n",
       "      <td>0.0</td>\n",
       "      <td>0.0</td>\n",
       "      <td>0.0</td>\n",
       "      <td>0.0</td>\n",
       "    </tr>\n",
       "    <tr>\n",
       "      <th>2</th>\n",
       "      <td>0.0</td>\n",
       "      <td>0.0</td>\n",
       "      <td>0.0</td>\n",
       "      <td>0.0</td>\n",
       "      <td>0.0</td>\n",
       "      <td>0.0</td>\n",
       "      <td>0.0</td>\n",
       "      <td>0.0</td>\n",
       "      <td>0.0</td>\n",
       "      <td>4.0</td>\n",
       "      <td>...</td>\n",
       "      <td>0.0</td>\n",
       "      <td>0.0</td>\n",
       "      <td>0.0</td>\n",
       "      <td>0.0</td>\n",
       "      <td>0.0</td>\n",
       "      <td>0.0</td>\n",
       "      <td>0.0</td>\n",
       "      <td>0.0</td>\n",
       "      <td>0.0</td>\n",
       "      <td>0.0</td>\n",
       "    </tr>\n",
       "    <tr>\n",
       "      <th>3</th>\n",
       "      <td>0.0</td>\n",
       "      <td>0.0</td>\n",
       "      <td>0.0</td>\n",
       "      <td>0.0</td>\n",
       "      <td>0.0</td>\n",
       "      <td>0.0</td>\n",
       "      <td>0.0</td>\n",
       "      <td>0.0</td>\n",
       "      <td>0.0</td>\n",
       "      <td>0.0</td>\n",
       "      <td>...</td>\n",
       "      <td>0.0</td>\n",
       "      <td>0.0</td>\n",
       "      <td>0.0</td>\n",
       "      <td>0.0</td>\n",
       "      <td>0.0</td>\n",
       "      <td>0.0</td>\n",
       "      <td>0.0</td>\n",
       "      <td>0.0</td>\n",
       "      <td>0.0</td>\n",
       "      <td>0.0</td>\n",
       "    </tr>\n",
       "    <tr>\n",
       "      <th>4</th>\n",
       "      <td>0.0</td>\n",
       "      <td>0.0</td>\n",
       "      <td>0.0</td>\n",
       "      <td>0.0</td>\n",
       "      <td>0.0</td>\n",
       "      <td>0.0</td>\n",
       "      <td>0.0</td>\n",
       "      <td>0.0</td>\n",
       "      <td>0.0</td>\n",
       "      <td>4.0</td>\n",
       "      <td>...</td>\n",
       "      <td>0.0</td>\n",
       "      <td>0.0</td>\n",
       "      <td>0.0</td>\n",
       "      <td>0.0</td>\n",
       "      <td>0.0</td>\n",
       "      <td>0.0</td>\n",
       "      <td>0.0</td>\n",
       "      <td>0.0</td>\n",
       "      <td>0.0</td>\n",
       "      <td>0.0</td>\n",
       "    </tr>\n",
       "    <tr>\n",
       "      <th>5</th>\n",
       "      <td>0.0</td>\n",
       "      <td>0.0</td>\n",
       "      <td>4.0</td>\n",
       "      <td>0.0</td>\n",
       "      <td>0.0</td>\n",
       "      <td>0.0</td>\n",
       "      <td>0.0</td>\n",
       "      <td>0.0</td>\n",
       "      <td>0.0</td>\n",
       "      <td>0.0</td>\n",
       "      <td>...</td>\n",
       "      <td>0.0</td>\n",
       "      <td>0.0</td>\n",
       "      <td>0.0</td>\n",
       "      <td>0.0</td>\n",
       "      <td>0.0</td>\n",
       "      <td>0.0</td>\n",
       "      <td>0.0</td>\n",
       "      <td>0.0</td>\n",
       "      <td>0.0</td>\n",
       "      <td>0.0</td>\n",
       "    </tr>\n",
       "  </tbody>\n",
       "</table>\n",
       "<p>5 rows × 9066 columns</p>\n",
       "</div>"
      ],
      "text/plain": [
       "movieId  1       2       3       4       5       6       7       8       \\\n",
       "userId                                                                    \n",
       "1           0.0     0.0     0.0     0.0     0.0     0.0     0.0     0.0   \n",
       "2           0.0     0.0     0.0     0.0     0.0     0.0     0.0     0.0   \n",
       "3           0.0     0.0     0.0     0.0     0.0     0.0     0.0     0.0   \n",
       "4           0.0     0.0     0.0     0.0     0.0     0.0     0.0     0.0   \n",
       "5           0.0     0.0     4.0     0.0     0.0     0.0     0.0     0.0   \n",
       "\n",
       "movieId  9       10      ...  161084  161155  161594  161830  161918  161944  \\\n",
       "userId                   ...                                                   \n",
       "1           0.0     0.0  ...     0.0     0.0     0.0     0.0     0.0     0.0   \n",
       "2           0.0     4.0  ...     0.0     0.0     0.0     0.0     0.0     0.0   \n",
       "3           0.0     0.0  ...     0.0     0.0     0.0     0.0     0.0     0.0   \n",
       "4           0.0     4.0  ...     0.0     0.0     0.0     0.0     0.0     0.0   \n",
       "5           0.0     0.0  ...     0.0     0.0     0.0     0.0     0.0     0.0   \n",
       "\n",
       "movieId  162376  162542  162672  163949  \n",
       "userId                                   \n",
       "1           0.0     0.0     0.0     0.0  \n",
       "2           0.0     0.0     0.0     0.0  \n",
       "3           0.0     0.0     0.0     0.0  \n",
       "4           0.0     0.0     0.0     0.0  \n",
       "5           0.0     0.0     0.0     0.0  \n",
       "\n",
       "[5 rows x 9066 columns]"
      ]
     },
     "execution_count": 4,
     "metadata": {},
     "output_type": "execute_result"
    }
   ],
   "source": [
    "ratings_pivot = ratings.pivot(index='userId',columns='movieId',values='rating').fillna(0)\n",
    "ratings_pivot.head(5)"
   ]
  },
  {
   "cell_type": "code",
   "execution_count": 5,
   "metadata": {},
   "outputs": [
    {
     "data": {
      "text/plain": [
       "(671, 9066)"
      ]
     },
     "execution_count": 5,
     "metadata": {},
     "output_type": "execute_result"
    }
   ],
   "source": [
    "ratings_pivot.shape"
   ]
  },
  {
   "cell_type": "markdown",
   "metadata": {},
   "source": [
    "Matrica *ratings_pivot* je dosta retka, pa ćemo iskoristiti funkciju **csr_matrix** iz **scipy.sparse** paketa."
   ]
  },
  {
   "cell_type": "code",
   "execution_count": 15,
   "metadata": {},
   "outputs": [
    {
     "name": "stdout",
     "output_type": "stream",
     "text": [
      "[[0. 0. 0. ... 0. 0. 0.]\n",
      " [0. 0. 0. ... 0. 0. 0.]\n",
      " [0. 0. 0. ... 0. 0. 0.]\n",
      " ...\n",
      " [0. 0. 0. ... 0. 0. 0.]\n",
      " [4. 0. 0. ... 0. 0. 0.]\n",
      " [5. 0. 0. ... 0. 0. 0.]]\n"
     ]
    }
   ],
   "source": [
    "ratings_matrix = sps.csr_matrix(ratings_pivot)\n",
    "print(ratings_matrix.todense())"
   ]
  },
  {
   "cell_type": "markdown",
   "metadata": {},
   "source": [
    "Delimo podatke na trening i test skup. Matrice treba da budu istih dimenzija, samo ocene drugačije raspodeljene."
   ]
  },
  {
   "cell_type": "code",
   "execution_count": 7,
   "metadata": {},
   "outputs": [],
   "source": [
    "def train_test_splitting(ratings_matrix, test_size): # test_size ocena ce biti u skupu za testiranje\n",
    "    \n",
    "    ratings = ratings_matrix.toarray()\n",
    "    test = np.zeros(ratings.shape)\n",
    "    train = ratings.copy()\n",
    "    rows = (ratings != 0).sum(1)\n",
    "    \n",
    "    for user in range(ratings.shape[0]):\n",
    "        count_per_user=int(np.ceil(test_size*rows[user]))\n",
    "        test_ratings = np.random.choice(ratings[user, :].nonzero()[0], # 0 jer je nonzero primenjeno na vektor\n",
    "                                        size=count_per_user,  # indeksi na kojima nisu 0\n",
    "                                        replace=False)\n",
    "        # u trening skup se upisuju 0 na izabranim pozicijama, a u skup za testiranje se upisuju elementi \n",
    "        train[user, test_ratings] = 0\n",
    "        test[user, test_ratings] = ratings[user, test_ratings] \n",
    "        \n",
    "    # provera da li su poznate ocene ili u jednom ili u drugom skupu\n",
    "    assert(np.all((train * test) == 0)) \n",
    "    return sps.csr_matrix(train),sps.csr_matrix(test)"
   ]
  },
  {
   "cell_type": "markdown",
   "metadata": {},
   "source": [
    "Definišemo funkciju koja računa gustinu popunjenosti matrice. Trening i test skup treba da budu različite gustine, odnosno da imaju 4:1 odnos broja ne-nula elemenata."
   ]
  },
  {
   "cell_type": "code",
   "execution_count": 13,
   "metadata": {},
   "outputs": [],
   "source": [
    "def density(ratings): \n",
    "    density = float(len(ratings.nonzero()[0]))\n",
    "    density /= (ratings.shape[0] * ratings.shape[1])\n",
    "    density *= 100\n",
    "    return round(density,3)"
   ]
  },
  {
   "cell_type": "code",
   "execution_count": 17,
   "metadata": {},
   "outputs": [
    {
     "name": "stdout",
     "output_type": "stream",
     "text": [
      "Non zero count - train:  79748\n",
      "Density - train:  1.311 %\n",
      "Non zero count - test:  20256\n",
      "Density - test:  0.333 %\n"
     ]
    }
   ],
   "source": [
    "train, test = train_test_splitting(ratings_matrix, 0.2)\n",
    "print('Non zero count - train: ',train.getnnz())\n",
    "print('Density - train: ',density(train),'%')\n",
    "print('Non zero count - test: ',test.getnnz())\n",
    "print('Density - test: ',density(test),'%')"
   ]
  },
  {
   "cell_type": "markdown",
   "metadata": {},
   "source": [
    "Implementiramo KNN algoritam."
   ]
  },
  {
   "cell_type": "code",
   "execution_count": 31,
   "metadata": {},
   "outputs": [],
   "source": [
    "def k_nearest_neighbors(i, similarity_matrix, k=10):\n",
    "   \n",
    "    neighbors = []\n",
    "    similarities = list(zip(similarity_matrix[i][:],range(similarity_matrix.shape[0])))\n",
    "    similarities.sort(key = lambda x: x[0], reverse=True)\n",
    "    \n",
    "    for i in range(1,k+1):\n",
    "        neighbors.append(similarities[i][1])\n",
    "    \n",
    "    return neighbors"
   ]
  },
  {
   "cell_type": "markdown",
   "metadata": {},
   "source": [
    "### User-based kolaborativno filtriranje\n",
    "Računamo matricu sličnosti između korisnika. Računamo kosinusno rastojanje."
   ]
  },
  {
   "cell_type": "code",
   "execution_count": 27,
   "metadata": {},
   "outputs": [],
   "source": [
    "def similarity_between_users(ratings, epsilon=1e-9):\n",
    "    return cosine_similarity(ratings) + epsilon "
   ]
  },
  {
   "cell_type": "code",
   "execution_count": 30,
   "metadata": {},
   "outputs": [
    {
     "data": {
      "text/plain": [
       "(671, 671)"
      ]
     },
     "execution_count": 30,
     "metadata": {},
     "output_type": "execute_result"
    }
   ],
   "source": [
    "users_similarity = similarity_between_users(train)\n",
    "users_similarity.shape"
   ]
  },
  {
   "cell_type": "code",
   "execution_count": 93,
   "metadata": {},
   "outputs": [
    {
     "data": {
      "text/plain": [
       "[534, 384, 516, 120, 648, 150, 125, 337, 589, 486]"
      ]
     },
     "execution_count": 93,
     "metadata": {},
     "output_type": "execute_result"
    }
   ],
   "source": [
    "nearest_neighbors = k_nearest_neighbors(1,users_similarity)\n",
    "nearest_neighbors"
   ]
  },
  {
   "cell_type": "markdown",
   "metadata": {},
   "source": [
    "Previđanje ocene korisnika $u$ za film $i$ na osnovu formule:\n",
    "$ r'_{ui} = \\mu_u + \\frac{\\sum_{v \\in N^k_i(u)}sim(u,v)(r_{vi}-\\mu_v)}{\\sum_{v \\in N^k_i(u)}sim(u,v)} $"
   ]
  },
  {
   "cell_type": "code",
   "execution_count": 162,
   "metadata": {},
   "outputs": [],
   "source": [
    "def user_based_prediction(u, i, users_similarity, ratings, k):\n",
    "        \n",
    "        neighbors = k_nearest_neighbors(u,users_similarity,k)\n",
    "        mu_u = ratings[u].mean()\n",
    "        sum1 = 0.0\n",
    "        sum2 = 0.0\n",
    "    \n",
    "        for v in neighbors:            \n",
    "            mu_v = ratings[v].mean()\n",
    "            r_vi = ratings[v,i]\n",
    "            sum1 += users_similarity[u][v]*(r_vi - mu_v)\n",
    "            sum2 += users_similarity[u][v]\n",
    "            \n",
    "    \n",
    "        return mu_u + sum1/sum2"
   ]
  },
  {
   "cell_type": "markdown",
   "metadata": {},
   "source": [
    "### Item-based kolaborativno filtriranje\n",
    "Računamo matricu sličnosti između filmova. Računamo kosinusno rastojanje."
   ]
  },
  {
   "cell_type": "code",
   "execution_count": 97,
   "metadata": {},
   "outputs": [],
   "source": [
    "def similarity_between_movies(ratings, epsilon=1e-9):\n",
    "    return cosine_similarity(ratings.T) + epsilon"
   ]
  },
  {
   "cell_type": "code",
   "execution_count": 98,
   "metadata": {},
   "outputs": [
    {
     "data": {
      "text/plain": [
       "(9066, 9066)"
      ]
     },
     "execution_count": 98,
     "metadata": {},
     "output_type": "execute_result"
    }
   ],
   "source": [
    "movies_similarity = similarity_between_movies(train)\n",
    "movies_similarity.shape"
   ]
  },
  {
   "cell_type": "code",
   "execution_count": 99,
   "metadata": {},
   "outputs": [
    {
     "data": {
      "text/plain": [
       "[24, 535, 45, 615, 644, 31, 87, 650, 406, 266]"
      ]
     },
     "execution_count": 99,
     "metadata": {},
     "output_type": "execute_result"
    }
   ],
   "source": [
    "nearest_neighbors = k_nearest_neighbors(5,movies_similarity)\n",
    "nearest_neighbors"
   ]
  },
  {
   "cell_type": "markdown",
   "metadata": {},
   "source": [
    "Previđanje ocene korisnika $u$ za film $i$ na osnovu formule:\n",
    "$ r'_{ui} = \\mu_i + \\frac{\\sum_{j \\in N^k_u(i)}sim(i,j)(r_{uj}-\\mu_j)}{\\sum_{j \\in N^k_u(i)}sim(i,j)} $"
   ]
  },
  {
   "cell_type": "code",
   "execution_count": 100,
   "metadata": {},
   "outputs": [],
   "source": [
    "def item_based_prediction(u, i, movies_similarity, ratings, k):\n",
    "        \n",
    "        neighbors = k_nearest_neighbors(i,movies_similarity,k)\n",
    "        mu_i = ratings[:,i].mean()\n",
    "        sum1 = 0.0\n",
    "        sum2 = 0.0\n",
    "    \n",
    "        for j in neighbors:            \n",
    "            mu_j = ratings[:,j].mean()\n",
    "            r_uj = ratings[u,j]\n",
    "            sum1 += movies_similarity[i][j]*(r_uj - mu_j)\n",
    "            sum2 += movies_similarity[i][j]\n",
    "            \n",
    "    \n",
    "        return mu_i + sum1/sum2"
   ]
  },
  {
   "cell_type": "markdown",
   "metadata": {},
   "source": [
    "### Minimizacija RMSE na trening skupu"
   ]
  },
  {
   "cell_type": "markdown",
   "metadata": {},
   "source": [
    "**!!! Zbog predugog vremena izvršavanja i tehničkih problema redukujemo skupove podataka !!! **"
   ]
  },
  {
   "cell_type": "code",
   "execution_count": 145,
   "metadata": {},
   "outputs": [
    {
     "data": {
      "text/plain": [
       "(150, 250)"
      ]
     },
     "execution_count": 145,
     "metadata": {},
     "output_type": "execute_result"
    }
   ],
   "source": [
    "ratings_reduced = ratings_matrix[:150,:250] \n",
    "ratings_reduced.shape"
   ]
  },
  {
   "cell_type": "code",
   "execution_count": 146,
   "metadata": {},
   "outputs": [
    {
     "name": "stdout",
     "output_type": "stream",
     "text": [
      "(150, 250) (150, 250)\n"
     ]
    }
   ],
   "source": [
    "train_reduced, test_reduced = train_test_splitting(ratings_reduced, 0.2)\n",
    "print(train_reduced.shape, test_reduced.shape)"
   ]
  },
  {
   "cell_type": "code",
   "execution_count": 150,
   "metadata": {},
   "outputs": [
    {
     "name": "stdout",
     "output_type": "stream",
     "text": [
      "Density - train_reduced:  3.851\n",
      "Non zero count - train:  1444\n",
      "Density - test_reduced:  1.155\n",
      "Non zero count - test:  433\n"
     ]
    }
   ],
   "source": [
    "print('Density - train_reduced: ',density(train_reduced))\n",
    "print('Non zero count - train: ',train_reduced.getnnz())\n",
    "print('Density - test_reduced: ',density(test_reduced))\n",
    "print('Non zero count - test: ',test_reduced.getnnz())"
   ]
  },
  {
   "cell_type": "code",
   "execution_count": 151,
   "metadata": {},
   "outputs": [
    {
     "data": {
      "text/plain": [
       "(150, 150)"
      ]
     },
     "execution_count": 151,
     "metadata": {},
     "output_type": "execute_result"
    }
   ],
   "source": [
    "users_similarity_reduced = similarity_between_users(train_reduced)\n",
    "users_similarity_reduced.shape"
   ]
  },
  {
   "cell_type": "code",
   "execution_count": 152,
   "metadata": {},
   "outputs": [
    {
     "data": {
      "text/plain": [
       "(250, 250)"
      ]
     },
     "execution_count": 152,
     "metadata": {},
     "output_type": "execute_result"
    }
   ],
   "source": [
    "movies_similarity_reduced = similarity_between_movies(train_reduced)\n",
    "movies_similarity_reduced.shape"
   ]
  },
  {
   "cell_type": "code",
   "execution_count": 239,
   "metadata": {},
   "outputs": [
    {
     "data": {
      "text/plain": [
       "1444"
      ]
     },
     "execution_count": 239,
     "metadata": {},
     "output_type": "execute_result"
    }
   ],
   "source": [
    "true_ratings = []\n",
    "rows,cols = train_reduced.nonzero()\n",
    "\n",
    "for row,col in zip(rows,cols):\n",
    "    true_ratings.append(train_reduced[row,col])\n",
    "    \n",
    "len(true_ratings)"
   ]
  },
  {
   "cell_type": "code",
   "execution_count": 154,
   "metadata": {},
   "outputs": [
    {
     "data": {
      "text/plain": [
       "[array(5.),\n",
       " array(5.),\n",
       " array(4.),\n",
       " array(4.),\n",
       " array(3.),\n",
       " array(3.),\n",
       " array(4.),\n",
       " array(3.),\n",
       " array(4.),\n",
       " array(3.)]"
      ]
     },
     "execution_count": 154,
     "metadata": {},
     "output_type": "execute_result"
    }
   ],
   "source": [
    "true_ratings[:10]"
   ]
  },
  {
   "cell_type": "code",
   "execution_count": 132,
   "metadata": {},
   "outputs": [],
   "source": [
    "ks = [5,10,15,20,25,30,35,40]"
   ]
  },
  {
   "cell_type": "markdown",
   "metadata": {},
   "source": [
    "Nalazimo najbolje *k* za user-based KNN, ono kojim se minimizuje RMSE na trening skupu."
   ]
  },
  {
   "cell_type": "code",
   "execution_count": 178,
   "metadata": {},
   "outputs": [],
   "source": [
    "errors1 = np.array([])\n",
    "rows,cols = train_reduced.nonzero()\n",
    "\n",
    "for k in ks:\n",
    "    user_based_predictions = []\n",
    "    for row,col in zip(rows,cols):\n",
    "        u = row\n",
    "        i = col\n",
    "        prediction = user_based_prediction(u, i, users_similarity_reduced, train_reduced, k)\n",
    "        user_based_predictions.append(prediction)\n",
    "\n",
    "    error = np.sqrt(mean_squared_error(true_ratings,user_based_predictions))\n",
    "    errors1 = np.append(errors1, error)"
   ]
  },
  {
   "cell_type": "code",
   "execution_count": 179,
   "metadata": {},
   "outputs": [
    {
     "name": "stdout",
     "output_type": "stream",
     "text": [
      "User-based train best k:  5\n",
      "User-based train RMSE : 2.3874080351478257\n"
     ]
    }
   ],
   "source": [
    "k_ub = ks[errors1.argmin()]\n",
    "print('User-based train best k: ',k_ub)\n",
    "print('User-based train RMSE :', errors1.min())"
   ]
  },
  {
   "cell_type": "markdown",
   "metadata": {},
   "source": [
    "Nalazimo najbolje *k* za item-based KNN, ono kojim se minimizuje RMSE na trening skupu."
   ]
  },
  {
   "cell_type": "code",
   "execution_count": 181,
   "metadata": {},
   "outputs": [],
   "source": [
    "errors2 = np.array([])\n",
    "rows,cols = train_reduced.nonzero()\n",
    "\n",
    "for k in ks:\n",
    "    item_based_predictions = []\n",
    "    for row,col in zip(rows,cols):\n",
    "        u = row\n",
    "        i = col\n",
    "        prediction = item_based_prediction(u, i, movies_similarity_reduced, train_reduced, k)\n",
    "        item_based_predictions.append(prediction)\n",
    "        \n",
    "    error = np.sqrt(mean_squared_error(true_ratings,item_based_predictions))\n",
    "    errors2 = np.append(errors2, error)"
   ]
  },
  {
   "cell_type": "code",
   "execution_count": 182,
   "metadata": {},
   "outputs": [
    {
     "name": "stdout",
     "output_type": "stream",
     "text": [
      "Item-based train best k : 5\n",
      "Item-based train RMSE : 2.314105042751845\n"
     ]
    }
   ],
   "source": [
    "k_ib = ks[errors2.argmin()]\n",
    "print('Item-based train best k :', k_ib)\n",
    "print('Item-based train RMSE :', errors2.min())"
   ]
  },
  {
   "cell_type": "markdown",
   "metadata": {},
   "source": [
    "Vizualizacija zavisnosti RMSE od broja suseda *k*."
   ]
  },
  {
   "cell_type": "code",
   "execution_count": 195,
   "metadata": {},
   "outputs": [
    {
     "data": {
      "image/png": "[encoded data removed]",
      "text/plain": [
       "<Figure size 432x288 with 1 Axes>"
      ]
     },
     "metadata": {},
     "output_type": "display_data"
    }
   ],
   "source": [
    "plt.plot(ks, errors1, color = 'orange', label = 'user-based')\n",
    "plt.plot(ks, errors2, color = 'blue', label = 'item-based')\n",
    "plt.title('Results - train set')\n",
    "plt.xlabel('k')\n",
    "plt.ylabel('RMSE')\n",
    "plt.legend(loc='best')\n",
    "plt.show()"
   ]
  },
  {
   "cell_type": "markdown",
   "metadata": {},
   "source": [
    "### Validacija na test skupu"
   ]
  },
  {
   "cell_type": "code",
   "execution_count": 222,
   "metadata": {},
   "outputs": [
    {
     "data": {
      "text/plain": [
       "433"
      ]
     },
     "execution_count": 222,
     "metadata": {},
     "output_type": "execute_result"
    }
   ],
   "source": [
    "test_ratings = []\n",
    "rows,cols = test_reduced.nonzero()\n",
    "\n",
    "for row,col in zip(rows,cols):\n",
    "    test_ratings.append(test_reduced[row,col])\n",
    "\n",
    "len(test_ratings)"
   ]
  },
  {
   "cell_type": "code",
   "execution_count": 189,
   "metadata": {},
   "outputs": [],
   "source": [
    "errors_test_1 = np.array([])\n",
    "rows,cols = test_reduced.nonzero()\n",
    "\n",
    "for k in ks:\n",
    "    user_based_predictions = []\n",
    "    for row,col in zip(rows,cols):\n",
    "        u = row\n",
    "        i = col\n",
    "        prediction = user_based_prediction(u, i, users_similarity_reduced, test_reduced, k)\n",
    "        user_based_predictions.append(prediction)\n",
    "\n",
    "    error = np.sqrt(mean_squared_error(test_ratings,user_based_predictions))\n",
    "    errors_test_1 = np.append(errors_test_1, error)"
   ]
  },
  {
   "cell_type": "code",
   "execution_count": 190,
   "metadata": {},
   "outputs": [
    {
     "name": "stdout",
     "output_type": "stream",
     "text": [
      "User-based test best k :  10\n",
      "User-based test RMSE : 3.401826067892353\n"
     ]
    }
   ],
   "source": [
    "k_ub_test = ks[errors_test_1.argmin()]\n",
    "print('User-based test best k : ',k_ub_test)\n",
    "print('User-based test RMSE :', errors_test_1.min())"
   ]
  },
  {
   "cell_type": "code",
   "execution_count": 191,
   "metadata": {},
   "outputs": [],
   "source": [
    "errors_test_2 = np.array([])\n",
    "rows,cols = test_reduced.nonzero()\n",
    "\n",
    "for k in ks:\n",
    "    item_based_predictions = []\n",
    "    for row,col in zip(rows,cols):\n",
    "        u = row\n",
    "        i = col\n",
    "        prediction = item_based_prediction(u, i, movies_similarity_reduced, test_reduced, k)\n",
    "        item_based_predictions.append(prediction)\n",
    "\n",
    "    error = np.sqrt(mean_squared_error(test_ratings,item_based_predictions))\n",
    "    errors_test_2 = np.append(errors_test_2, error)"
   ]
  },
  {
   "cell_type": "code",
   "execution_count": 192,
   "metadata": {},
   "outputs": [
    {
     "name": "stdout",
     "output_type": "stream",
     "text": [
      "Item-based test best k :  15\n",
      "Item-based test RMSE : 3.473562310321318\n"
     ]
    }
   ],
   "source": [
    "k_ib_test = ks[errors_test_2.argmin()]\n",
    "print('Item-based test best k : ',k_ib_test)\n",
    "print('Item-based test RMSE :', errors_test_2.min())"
   ]
  },
  {
   "cell_type": "code",
   "execution_count": 196,
   "metadata": {},
   "outputs": [
    {
     "data": {
      "image/png": "[encoded data removed]",
      "text/plain": [
       "<Figure size 432x288 with 1 Axes>"
      ]
     },
     "metadata": {},
     "output_type": "display_data"
    }
   ],
   "source": [
    "plt.plot(ks, errors_test_1, color = 'orange', label = 'user-based')\n",
    "plt.plot(ks, errors_test_2, color = 'blue', label = 'item-based')\n",
    "plt.title('Results - test set')\n",
    "plt.xlabel('k')\n",
    "plt.ylabel('RMSE')\n",
    "plt.legend(loc='best')\n",
    "plt.show()"
   ]
  },
  {
   "cell_type": "markdown",
   "metadata": {},
   "source": [
    "## 2. Dekompozicija matrica\n",
    "Još jedan pristup zasnovan na kolaborativnom filtriranju jeste korišćenjem singularne dekompozicije matrica (SVD). Kako je matrica ocena $R$ retka (jedan korisnik je ocenio samo mali deo filmova), ona se može dekomponovati kao $R = M\\Sigma U^T$, gde je $U$ matrica korisnika, $M$ matrica filmova, a $\\Sigma$ je dijagonalna matrica. Jednostavnosti radi, možemo posmatrati jednakost bez dijagonalne matrice, odnosno samo $R = MU^T$.\n",
    "Označimo sa $r_{ui}$ ocenu korisnika $u$ za film $i$, sa $p_u$ red matrice $M$ koji se odnosi na korisnika $u$ i sa $q_i$ kolonu matrice $U^T$ koja se odnosi na film $i$. Dobijamo jednakost na osnovu koje se vrši predviđanje ocena: $$ r_{ui}= p_uq_i$$ "
   ]
  },
  {
   "cell_type": "code",
   "execution_count": 199,
   "metadata": {},
   "outputs": [],
   "source": [
    "M, sigma, Ut = svds(train, k = 4)"
   ]
  },
  {
   "cell_type": "code",
   "execution_count": 200,
   "metadata": {},
   "outputs": [
    {
     "data": {
      "text/plain": [
       "array([[137.38546275,   0.        ,   0.        ,   0.        ],\n",
       "       [  0.        , 168.0202303 ,   0.        ,   0.        ],\n",
       "       [  0.        ,   0.        , 199.70283511,   0.        ],\n",
       "       [  0.        ,   0.        ,   0.        , 414.3766936 ]])"
      ]
     },
     "execution_count": 200,
     "metadata": {},
     "output_type": "execute_result"
    }
   ],
   "source": [
    "sigma = np.diag(sigma)\n",
    "sigma"
   ]
  },
  {
   "cell_type": "code",
   "execution_count": 246,
   "metadata": {},
   "outputs": [
    {
     "data": {
      "text/plain": [
       "79748"
      ]
     },
     "execution_count": 246,
     "metadata": {},
     "output_type": "execute_result"
    }
   ],
   "source": [
    "predictions_svd_matrix = np.dot(np.dot(M,sigma),Ut)\n",
    "train_predictions_svd = list(predictions_svd_matrix[train.nonzero()].flatten())\n",
    "len(train_predictions_svd)"
   ]
  },
  {
   "cell_type": "code",
   "execution_count": 241,
   "metadata": {},
   "outputs": [
    {
     "data": {
      "text/plain": [
       "79748"
      ]
     },
     "execution_count": 241,
     "metadata": {},
     "output_type": "execute_result"
    }
   ],
   "source": [
    "train_ratings_svd = []\n",
    "rows,cols = train.nonzero()\n",
    "\n",
    "for row,col in zip(rows,cols):\n",
    "    train_ratings_svd.append(train[row,col])\n",
    "\n",
    "len(train_ratings_svd)"
   ]
  },
  {
   "cell_type": "code",
   "execution_count": 245,
   "metadata": {},
   "outputs": [
    {
     "name": "stdout",
     "output_type": "stream",
     "text": [
      "Singular Value Decomposition train RMSE:  2.9547902603074463\n"
     ]
    }
   ],
   "source": [
    "rmse_train_svd = np.sqrt(mean_squared_error(train_ratings_svd,train_predictions_svd))\n",
    "print('Singular Value Decomposition train RMSE: ',rmse_train_svd)"
   ]
  },
  {
   "cell_type": "code",
   "execution_count": 247,
   "metadata": {},
   "outputs": [
    {
     "data": {
      "text/plain": [
       "20256"
      ]
     },
     "execution_count": 247,
     "metadata": {},
     "output_type": "execute_result"
    }
   ],
   "source": [
    "test_predictions_svd = list(predictions_svd_matrix[test.nonzero()].flatten())\n",
    "len(test_predictions_svd)"
   ]
  },
  {
   "cell_type": "code",
   "execution_count": 248,
   "metadata": {},
   "outputs": [
    {
     "data": {
      "text/plain": [
       "20256"
      ]
     },
     "execution_count": 248,
     "metadata": {},
     "output_type": "execute_result"
    }
   ],
   "source": [
    "test_ratings_svd = []\n",
    "rows,cols = test.nonzero()\n",
    "\n",
    "for row,col in zip(rows,cols):\n",
    "    test_ratings_svd.append(test[row,col])\n",
    "\n",
    "len(test_ratings_svd)"
   ]
  },
  {
   "cell_type": "code",
   "execution_count": 249,
   "metadata": {},
   "outputs": [
    {
     "name": "stdout",
     "output_type": "stream",
     "text": [
      "Singular Value Decomposition test RMSE:  3.050234191945162\n"
     ]
    }
   ],
   "source": [
    "rmse_test_svd = np.sqrt(mean_squared_error(test_ratings_svd,test_predictions_svd))\n",
    "print('Singular Value Decomposition test RMSE: ',rmse_test_svd)"
   ]
  },
  {
   "cell_type": "markdown",
   "metadata": {},
   "source": [
    "### NOTE\n",
    "* Eventualna implementacija rikomendera... "
   ]
  },
  {
   "cell_type": "markdown",
   "metadata": {},
   "source": [
    "## 3. Metod latentnih faktora"
   ]
  },
  {
   "cell_type": "markdown",
   "metadata": {},
   "source": [
    "Singularna dekompozicije (SVD) matrice ocena može biti skupa jer je matrica retka. Takođe, SVD ne radi kada podaci nedostaju. To umanjuje performanse. Sledeći pristup predviđanja ocena će se sastojati u pronalaženju ovih fakora tako da se minimizuje regularizovana kvadratna greška na trening skupu: $$min_{q^*,p^*,b^*} \\sum_{(u,i) \\in s} (r_{ui} - q^T_ip_u)^2 + \\lambda(||q_i||^2 + ||p_u||^2)$$\n",
    "\n",
    "Ovo radimo koristeći stohastički gradijentni spust. Najpre inicijalizujemo tražene matrice nasumičnim vrednostima iz unifomne raspodele. Zatim za svaki par (korisnik-film, ocena) iz trening skupa ažuriramo parametre prema grešci između stvarne i predviđene ocene. Na primer, faktor korisnika $p_u$ se ažurira na sledeći način:\n",
    "$$ p_u = p_u + \\alpha*((r_{ui} - r'_{ui})q_i - \\lambda p_u)$$"
   ]
  },
  {
   "cell_type": "code",
   "execution_count": 258,
   "metadata": {},
   "outputs": [],
   "source": [
    "# RMSE za SGD\n",
    "def RMSE(data, Q, P):\n",
    "    I = data != 0  # indikatorska funkcija o ocenjenim filmovima\n",
    "    ME = I * (data - np.dot(P, Q.T))  # greska izmedju stvarnih i predvidjenih vrednosti\n",
    "    MSE = ME**2  \n",
    "    return np.sqrt(np.sum(MSE)/np.sum(I)) "
   ]
  },
  {
   "cell_type": "code",
   "execution_count": 255,
   "metadata": {},
   "outputs": [],
   "source": [
    "f = 5 # broj parova latentnih faktora\n",
    "number_of_epochs = 10 # broj iteracija petlje\n",
    "l = 0.5 # regularizacioni parametar\n",
    "alpha = 0.01 # learning rate"
   ]
  },
  {
   "cell_type": "code",
   "execution_count": 266,
   "metadata": {},
   "outputs": [],
   "source": [
    "def stohastic_gradient_descent(train, test, f, number_of_epochs, l, alpha):\n",
    "    \n",
    "    users,items = train.nonzero()    \n",
    "    P = np.random.rand(train.shape[0], f) # latentni faktori za korisnike\n",
    "    Q = np.random.rand(train.shape[1], f) # latentni faktori za filmove\n",
    "    \n",
    "    train_errors = []\n",
    "    test_errors = []\n",
    "    \n",
    "    for epoch in range(number_of_epochs):\n",
    "        for u, i in zip(users, items):\n",
    "            diff = train[u, i] - np.dot(P[u,:], Q[i,:].T) # razlika izmedju prave i predvidjene vrednosti\n",
    "            # azuriranje faktora za korisnike\n",
    "            P[u, :] += alpha * (diff * Q[i,:] - l * P[u,:])\n",
    "            #azuriranje faktora za filmove\n",
    "            Q[i, :] += alpha * (diff * P[u,:] - l * Q[i, :])\n",
    "        train_errors.append(RMSE(train.toarray(),Q,P))\n",
    "        test_errors.append(RMSE(test.toarray(),Q,P))\n",
    "    \n",
    "    return train_errors, test_errors\n"
   ]
  },
  {
   "cell_type": "code",
   "execution_count": 267,
   "metadata": {},
   "outputs": [],
   "source": [
    "train_errors, test_errors = stohastic_gradient_descent(train_reduced, test_reduced, f, number_of_epochs, l, alpha)"
   ]
  },
  {
   "cell_type": "code",
   "execution_count": 271,
   "metadata": {},
   "outputs": [
    {
     "data": {
      "image/png": "[encoded data removed]",
      "text/plain": [
       "<Figure size 432x288 with 1 Axes>"
      ]
     },
     "metadata": {},
     "output_type": "display_data"
    }
   ],
   "source": [
    "plt.plot(train_errors, color=\"orange\", label='train RMSE')\n",
    "plt.plot(test_errors, color=\"blue\", label='test RMSE')\n",
    "plt.xlabel('epochs')\n",
    "plt.ylabel('RMSE')\n",
    "plt.title('Greska stohastickog gradijentnog spusta')\n",
    "plt.legend(loc = 'best')\n",
    "plt.show()"
   ]
  },
  {
   "cell_type": "markdown",
   "metadata": {},
   "source": [
    "### NOTE\n",
    "* Eventualna implementacija rikomendera... "
   ]
  },
  {
   "cell_type": "code",
   "execution_count": null,
   "metadata": {},
   "outputs": [],
   "source": []
  }
 ],
 "metadata": {
  "kernelspec": {
   "display_name": "Python 3",
   "language": "python",
   "name": "python3"
  },
  "language_info": {
   "codemirror_mode": {
    "name": "ipython",
    "version": 3
   },
   "file_extension": ".py",
   "mimetype": "text/x-python",
   "name": "python",
   "nbconvert_exporter": "python",
   "pygments_lexer": "ipython3",
   "version": "3.6.8"
  }
 },
 "nbformat": 4,
 "nbformat_minor": 2
}
