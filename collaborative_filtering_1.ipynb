{
 "cells": [
  {
   "cell_type": "markdown",
   "metadata": {},
   "source": [
    "# Sistem za preporuku filmova zasnovan na kolaborativnom filtriranju"
   ]
  },
  {
   "cell_type": "markdown",
   "metadata": {},
   "source": [
    "U ovom delu bavimo se izgradnjom sistema za preporuku koji je zasnovan na kolaborativnom filtriranju (eng. *collaborative filtering*). Ocene filmova se predviđaju na osnovu sličnosti među korisnicima (*user-based collaborative filtering*), odnosno među filmovima (*item-based collaborative filtering*). Preporučuju se oni filmovi za koje je predviđena ocena najviša. Učitajmo i pripremimo najpre neophodne podatke."
   ]
  },
  {
   "cell_type": "code",
   "execution_count": 1,
   "metadata": {},
   "outputs": [],
   "source": [
    "import numpy as np\n",
    "import pandas as pd\n",
    "import matplotlib.pyplot as plt\n",
    "%matplotlib inline\n",
    "from sklearn.metrics.pairwise import cosine_similarity\n",
    "from sklearn.model_selection import train_test_split\n",
    "from ast import literal_eval\n",
    "from scipy import sparse as sps\n",
    "from sklearn.metrics import mean_squared_error\n",
    "import math\n",
    "from scipy.sparse.linalg import svds\n",
    "\n",
    "import warnings; warnings.simplefilter('ignore')"
   ]
  },
  {
   "cell_type": "code",
   "execution_count": 2,
   "metadata": {},
   "outputs": [
    {
     "data": {
      "text/html": [
       "<div>\n",
       "<style scoped>\n",
       "    .dataframe tbody tr th:only-of-type {\n",
       "        vertical-align: middle;\n",
       "    }\n",
       "\n",
       "    .dataframe tbody tr th {\n",
       "        vertical-align: top;\n",
       "    }\n",
       "\n",
       "    .dataframe thead th {\n",
       "        text-align: right;\n",
       "    }\n",
       "</style>\n",
       "<table border=\"1\" class=\"dataframe\">\n",
       "  <thead>\n",
       "    <tr style=\"text-align: right;\">\n",
       "      <th></th>\n",
       "      <th>userId</th>\n",
       "      <th>movieId</th>\n",
       "      <th>rating</th>\n",
       "    </tr>\n",
       "  </thead>\n",
       "  <tbody>\n",
       "    <tr>\n",
       "      <th>0</th>\n",
       "      <td>1</td>\n",
       "      <td>31</td>\n",
       "      <td>2.5</td>\n",
       "    </tr>\n",
       "    <tr>\n",
       "      <th>1</th>\n",
       "      <td>1</td>\n",
       "      <td>1029</td>\n",
       "      <td>3.0</td>\n",
       "    </tr>\n",
       "    <tr>\n",
       "      <th>2</th>\n",
       "      <td>1</td>\n",
       "      <td>1061</td>\n",
       "      <td>3.0</td>\n",
       "    </tr>\n",
       "    <tr>\n",
       "      <th>3</th>\n",
       "      <td>1</td>\n",
       "      <td>1129</td>\n",
       "      <td>2.0</td>\n",
       "    </tr>\n",
       "    <tr>\n",
       "      <th>4</th>\n",
       "      <td>1</td>\n",
       "      <td>1172</td>\n",
       "      <td>4.0</td>\n",
       "    </tr>\n",
       "  </tbody>\n",
       "</table>\n",
       "</div>"
      ],
      "text/plain": [
       "   userId  movieId  rating\n",
       "0       1       31     2.5\n",
       "1       1     1029     3.0\n",
       "2       1     1061     3.0\n",
       "3       1     1129     2.0\n",
       "4       1     1172     4.0"
      ]
     },
     "execution_count": 2,
     "metadata": {},
     "output_type": "execute_result"
    }
   ],
   "source": [
    "ratings = pd.read_csv('the-movies-dataset/ratings_small.csv',usecols=['userId','movieId','rating'])\n",
    "ratings.head()"
   ]
  },
  {
   "cell_type": "markdown",
   "metadata": {},
   "source": [
    "## 1. KNN pristup "
   ]
  },
  {
   "cell_type": "markdown",
   "metadata": {},
   "source": [
    "Koristićemo algoritam K najbližih suseda. Podaci treba da budu u formi $n x m$ matrice, gde je $m$ broj filmova a $n$ broj korisnika. Primenjujemo funkciju **pivot** na dataFrame *ratings*. Zatim popunjavamo nedostajuće podatke nulama. Tako dobijamo novi dataFrame koji ćemo nazvati *ratings_pivot*."
   ]
  },
  {
   "cell_type": "code",
   "execution_count": 3,
   "metadata": {},
   "outputs": [
    {
     "data": {
      "text/html": [
       "<div>\n",
       "<style scoped>\n",
       "    .dataframe tbody tr th:only-of-type {\n",
       "        vertical-align: middle;\n",
       "    }\n",
       "\n",
       "    .dataframe tbody tr th {\n",
       "        vertical-align: top;\n",
       "    }\n",
       "\n",
       "    .dataframe thead th {\n",
       "        text-align: right;\n",
       "    }\n",
       "</style>\n",
       "<table border=\"1\" class=\"dataframe\">\n",
       "  <thead>\n",
       "    <tr style=\"text-align: right;\">\n",
       "      <th>movieId</th>\n",
       "      <th>1</th>\n",
       "      <th>2</th>\n",
       "      <th>3</th>\n",
       "      <th>4</th>\n",
       "      <th>5</th>\n",
       "      <th>6</th>\n",
       "      <th>7</th>\n",
       "      <th>8</th>\n",
       "      <th>9</th>\n",
       "      <th>10</th>\n",
       "      <th>...</th>\n",
       "      <th>161084</th>\n",
       "      <th>161155</th>\n",
       "      <th>161594</th>\n",
       "      <th>161830</th>\n",
       "      <th>161918</th>\n",
       "      <th>161944</th>\n",
       "      <th>162376</th>\n",
       "      <th>162542</th>\n",
       "      <th>162672</th>\n",
       "      <th>163949</th>\n",
       "    </tr>\n",
       "    <tr>\n",
       "      <th>userId</th>\n",
       "      <th></th>\n",
       "      <th></th>\n",
       "      <th></th>\n",
       "      <th></th>\n",
       "      <th></th>\n",
       "      <th></th>\n",
       "      <th></th>\n",
       "      <th></th>\n",
       "      <th></th>\n",
       "      <th></th>\n",
       "      <th></th>\n",
       "      <th></th>\n",
       "      <th></th>\n",
       "      <th></th>\n",
       "      <th></th>\n",
       "      <th></th>\n",
       "      <th></th>\n",
       "      <th></th>\n",
       "      <th></th>\n",
       "      <th></th>\n",
       "      <th></th>\n",
       "    </tr>\n",
       "  </thead>\n",
       "  <tbody>\n",
       "    <tr>\n",
       "      <th>1</th>\n",
       "      <td>0.0</td>\n",
       "      <td>0.0</td>\n",
       "      <td>0.0</td>\n",
       "      <td>0.0</td>\n",
       "      <td>0.0</td>\n",
       "      <td>0.0</td>\n",
       "      <td>0.0</td>\n",
       "      <td>0.0</td>\n",
       "      <td>0.0</td>\n",
       "      <td>0.0</td>\n",
       "      <td>...</td>\n",
       "      <td>0.0</td>\n",
       "      <td>0.0</td>\n",
       "      <td>0.0</td>\n",
       "      <td>0.0</td>\n",
       "      <td>0.0</td>\n",
       "      <td>0.0</td>\n",
       "      <td>0.0</td>\n",
       "      <td>0.0</td>\n",
       "      <td>0.0</td>\n",
       "      <td>0.0</td>\n",
       "    </tr>\n",
       "    <tr>\n",
       "      <th>2</th>\n",
       "      <td>0.0</td>\n",
       "      <td>0.0</td>\n",
       "      <td>0.0</td>\n",
       "      <td>0.0</td>\n",
       "      <td>0.0</td>\n",
       "      <td>0.0</td>\n",
       "      <td>0.0</td>\n",
       "      <td>0.0</td>\n",
       "      <td>0.0</td>\n",
       "      <td>4.0</td>\n",
       "      <td>...</td>\n",
       "      <td>0.0</td>\n",
       "      <td>0.0</td>\n",
       "      <td>0.0</td>\n",
       "      <td>0.0</td>\n",
       "      <td>0.0</td>\n",
       "      <td>0.0</td>\n",
       "      <td>0.0</td>\n",
       "      <td>0.0</td>\n",
       "      <td>0.0</td>\n",
       "      <td>0.0</td>\n",
       "    </tr>\n",
       "    <tr>\n",
       "      <th>3</th>\n",
       "      <td>0.0</td>\n",
       "      <td>0.0</td>\n",
       "      <td>0.0</td>\n",
       "      <td>0.0</td>\n",
       "      <td>0.0</td>\n",
       "      <td>0.0</td>\n",
       "      <td>0.0</td>\n",
       "      <td>0.0</td>\n",
       "      <td>0.0</td>\n",
       "      <td>0.0</td>\n",
       "      <td>...</td>\n",
       "      <td>0.0</td>\n",
       "      <td>0.0</td>\n",
       "      <td>0.0</td>\n",
       "      <td>0.0</td>\n",
       "      <td>0.0</td>\n",
       "      <td>0.0</td>\n",
       "      <td>0.0</td>\n",
       "      <td>0.0</td>\n",
       "      <td>0.0</td>\n",
       "      <td>0.0</td>\n",
       "    </tr>\n",
       "    <tr>\n",
       "      <th>4</th>\n",
       "      <td>0.0</td>\n",
       "      <td>0.0</td>\n",
       "      <td>0.0</td>\n",
       "      <td>0.0</td>\n",
       "      <td>0.0</td>\n",
       "      <td>0.0</td>\n",
       "      <td>0.0</td>\n",
       "      <td>0.0</td>\n",
       "      <td>0.0</td>\n",
       "      <td>4.0</td>\n",
       "      <td>...</td>\n",
       "      <td>0.0</td>\n",
       "      <td>0.0</td>\n",
       "      <td>0.0</td>\n",
       "      <td>0.0</td>\n",
       "      <td>0.0</td>\n",
       "      <td>0.0</td>\n",
       "      <td>0.0</td>\n",
       "      <td>0.0</td>\n",
       "      <td>0.0</td>\n",
       "      <td>0.0</td>\n",
       "    </tr>\n",
       "    <tr>\n",
       "      <th>5</th>\n",
       "      <td>0.0</td>\n",
       "      <td>0.0</td>\n",
       "      <td>4.0</td>\n",
       "      <td>0.0</td>\n",
       "      <td>0.0</td>\n",
       "      <td>0.0</td>\n",
       "      <td>0.0</td>\n",
       "      <td>0.0</td>\n",
       "      <td>0.0</td>\n",
       "      <td>0.0</td>\n",
       "      <td>...</td>\n",
       "      <td>0.0</td>\n",
       "      <td>0.0</td>\n",
       "      <td>0.0</td>\n",
       "      <td>0.0</td>\n",
       "      <td>0.0</td>\n",
       "      <td>0.0</td>\n",
       "      <td>0.0</td>\n",
       "      <td>0.0</td>\n",
       "      <td>0.0</td>\n",
       "      <td>0.0</td>\n",
       "    </tr>\n",
       "  </tbody>\n",
       "</table>\n",
       "<p>5 rows × 9066 columns</p>\n",
       "</div>"
      ],
      "text/plain": [
       "movieId  1       2       3       4       5       6       7       8       \\\n",
       "userId                                                                    \n",
       "1           0.0     0.0     0.0     0.0     0.0     0.0     0.0     0.0   \n",
       "2           0.0     0.0     0.0     0.0     0.0     0.0     0.0     0.0   \n",
       "3           0.0     0.0     0.0     0.0     0.0     0.0     0.0     0.0   \n",
       "4           0.0     0.0     0.0     0.0     0.0     0.0     0.0     0.0   \n",
       "5           0.0     0.0     4.0     0.0     0.0     0.0     0.0     0.0   \n",
       "\n",
       "movieId  9       10      ...  161084  161155  161594  161830  161918  161944  \\\n",
       "userId                   ...                                                   \n",
       "1           0.0     0.0  ...     0.0     0.0     0.0     0.0     0.0     0.0   \n",
       "2           0.0     4.0  ...     0.0     0.0     0.0     0.0     0.0     0.0   \n",
       "3           0.0     0.0  ...     0.0     0.0     0.0     0.0     0.0     0.0   \n",
       "4           0.0     4.0  ...     0.0     0.0     0.0     0.0     0.0     0.0   \n",
       "5           0.0     0.0  ...     0.0     0.0     0.0     0.0     0.0     0.0   \n",
       "\n",
       "movieId  162376  162542  162672  163949  \n",
       "userId                                   \n",
       "1           0.0     0.0     0.0     0.0  \n",
       "2           0.0     0.0     0.0     0.0  \n",
       "3           0.0     0.0     0.0     0.0  \n",
       "4           0.0     0.0     0.0     0.0  \n",
       "5           0.0     0.0     0.0     0.0  \n",
       "\n",
       "[5 rows x 9066 columns]"
      ]
     },
     "execution_count": 3,
     "metadata": {},
     "output_type": "execute_result"
    }
   ],
   "source": [
    "ratings_pivot = ratings.pivot(index='userId',columns='movieId',values='rating').fillna(0)\n",
    "ratings_pivot.head(5)"
   ]
  },
  {
   "cell_type": "code",
   "execution_count": 4,
   "metadata": {},
   "outputs": [
    {
     "data": {
      "text/plain": [
       "(671, 9066)"
      ]
     },
     "execution_count": 4,
     "metadata": {},
     "output_type": "execute_result"
    }
   ],
   "source": [
    "ratings_pivot.shape"
   ]
  },
  {
   "cell_type": "markdown",
   "metadata": {},
   "source": [
    "Matrica *ratings_pivot* je dosta retka, pa ćemo iskoristiti funkciju **csr_matrix** iz **scipy.sparse** paketa."
   ]
  },
  {
   "cell_type": "code",
   "execution_count": 5,
   "metadata": {},
   "outputs": [
    {
     "name": "stdout",
     "output_type": "stream",
     "text": [
      "[[0. 0. 0. ... 0. 0. 0.]\n",
      " [0. 0. 0. ... 0. 0. 0.]\n",
      " [0. 0. 0. ... 0. 0. 0.]\n",
      " ...\n",
      " [0. 0. 0. ... 0. 0. 0.]\n",
      " [4. 0. 0. ... 0. 0. 0.]\n",
      " [5. 0. 0. ... 0. 0. 0.]]\n"
     ]
    }
   ],
   "source": [
    "ratings_matrix = sps.csr_matrix(ratings_pivot)\n",
    "print(ratings_matrix.todense())"
   ]
  },
  {
   "cell_type": "markdown",
   "metadata": {},
   "source": [
    "Delimo podatke na trening i test skup. Matrice treba da budu istih dimenzija, samo ocene drugačije raspodeljene."
   ]
  },
  {
   "cell_type": "code",
   "execution_count": 6,
   "metadata": {},
   "outputs": [],
   "source": [
    "def train_test_splitting(ratings_matrix, test_size): # test_size ocena ce biti u skupu za testiranje\n",
    "    \n",
    "    ratings = ratings_matrix.toarray()\n",
    "    test = np.zeros(ratings.shape)\n",
    "    train = ratings.copy()\n",
    "    rows = (ratings != 0).sum(1)\n",
    "    \n",
    "    for user in range(ratings.shape[0]):\n",
    "        count_per_user=int(np.ceil(test_size*rows[user]))\n",
    "        test_ratings = np.random.choice(ratings[user, :].nonzero()[0], # 0 jer je nonzero primenjeno na vektor\n",
    "                                        size=count_per_user,  # indeksi na kojima nisu 0\n",
    "                                        replace=False)\n",
    "        # u trening skup se upisuju 0 na izabranim pozicijama, a u skup za testiranje se upisuju elementi \n",
    "        train[user, test_ratings] = 0\n",
    "        test[user, test_ratings] = ratings[user, test_ratings] \n",
    "        \n",
    "    # provera da li su poznate ocene ili u jednom ili u drugom skupu\n",
    "    assert(np.all((train * test) == 0)) \n",
    "    return sps.csr_matrix(train),sps.csr_matrix(test)"
   ]
  },
  {
   "cell_type": "markdown",
   "metadata": {},
   "source": [
    "Definišemo funkciju koja računa gustinu popunjenosti matrice. Izdvajamo skupove za trening, validaciju i test.\n",
    "\n",
    "**!!! Zbog predugog vremena izvršavanja i tehničkih problema redukujemo skupove podataka !!! **"
   ]
  },
  {
   "cell_type": "code",
   "execution_count": 130,
   "metadata": {},
   "outputs": [
    {
     "data": {
      "text/plain": [
       "<150x350 sparse matrix of type '<class 'numpy.float64'>'\n",
       "\twith 2900 stored elements in Compressed Sparse Row format>"
      ]
     },
     "execution_count": 130,
     "metadata": {},
     "output_type": "execute_result"
    }
   ],
   "source": [
    "ratings_reduced = ratings_matrix[:150, :350]\n",
    "ratings_reduced"
   ]
  },
  {
   "cell_type": "code",
   "execution_count": 131,
   "metadata": {},
   "outputs": [],
   "source": [
    "def density(ratings): \n",
    "    density = float(len(ratings.nonzero()[0]))\n",
    "    density /= (ratings.shape[0] * ratings.shape[1])\n",
    "    density *= 100\n",
    "    return round(density,3)"
   ]
  },
  {
   "cell_type": "code",
   "execution_count": 132,
   "metadata": {},
   "outputs": [
    {
     "name": "stdout",
     "output_type": "stream",
     "text": [
      "Non zero count - train_validation:  2254\n",
      "Density - train_validation:  4.293 %\n",
      "Non zero count - test:  646\n",
      "Density - test:  1.23 %\n"
     ]
    }
   ],
   "source": [
    "train_validation, test = train_test_splitting(ratings_reduced, 0.2)\n",
    "print('Non zero count - train_validation: ',train_validation.getnnz())\n",
    "print('Density - train_validation: ',density(train_validation),'%')\n",
    "print('Non zero count - test: ',test.getnnz())\n",
    "print('Density - test: ',density(test),'%')"
   ]
  },
  {
   "cell_type": "markdown",
   "metadata": {},
   "source": [
    "Implementiramo KNN algoritam."
   ]
  },
  {
   "cell_type": "code",
   "execution_count": 32,
   "metadata": {},
   "outputs": [],
   "source": [
    "def k_nearest_neighbors(i, similarity_matrix, k=10):\n",
    "   \n",
    "    neighbors = []\n",
    "    similarities = list(zip(similarity_matrix[i][:],range(similarity_matrix.shape[0])))\n",
    "    similarities.sort(key = lambda x: x[0], reverse=True)\n",
    "    for i in range(1,k+1):\n",
    "        neighbors.append(similarities[i][1])\n",
    "    \n",
    "    return neighbors"
   ]
  },
  {
   "cell_type": "markdown",
   "metadata": {},
   "source": [
    "### User-based kolaborativno filtriranje\n",
    "Računamo matricu sličnosti između korisnika. Računamo kosinusno rastojanje."
   ]
  },
  {
   "cell_type": "code",
   "execution_count": 33,
   "metadata": {},
   "outputs": [],
   "source": [
    "def similarity_between_users(ratings, epsilon=1e-9):\n",
    "    return cosine_similarity(ratings) + epsilon "
   ]
  },
  {
   "cell_type": "markdown",
   "metadata": {},
   "source": [
    "Previđanje ocene korisnika $u$ za film $i$ na osnovu formule:\n",
    "$ r'_{ui} = \\mu_u + \\frac{\\sum_{v \\in N^k_i(u)}sim(u,v)(r_{vi}-\\mu_v)}{\\sum_{v \\in N^k_i(u)}sim(u,v)} $"
   ]
  },
  {
   "cell_type": "code",
   "execution_count": 167,
   "metadata": {},
   "outputs": [],
   "source": [
    "def user_based_prediction(u, i, users_similarity, ratings, k):\n",
    "        \n",
    "        neighbors = k_nearest_neighbors(u,users_similarity,k)\n",
    "        rated_by_u = ratings[u].nonzero()[1]\n",
    "        \n",
    "        mu_u = 0\n",
    "        \n",
    "        for i in rated_by_u:\n",
    "            mu_u += ratings[u, i]\n",
    "        \n",
    "        if len(rated_by_u) != 0:\n",
    "            mu_u = mu_u / len(rated_by_u)\n",
    "        \n",
    "        \n",
    "        sum1 = 0.0\n",
    "        sum2 = 0.0\n",
    "    \n",
    "        for v in neighbors:\n",
    "            \n",
    "            rated_by_v = ratings[v].nonzero()[1]\n",
    "            mu_v = 0\n",
    "            \n",
    "            if len(rated_by_v) != 0:\n",
    "        \n",
    "                for i in rated_by_v:\n",
    "                    mu_v += ratings[v, i]\n",
    "            \n",
    "                mu_v = mu_v / len(rated_by_v)\n",
    "                \n",
    "            r_vi = ratings[v,i]\n",
    "            sum1 += users_similarity[u][v]*(r_vi - mu_v)\n",
    "            sum2 += users_similarity[u][v]\n",
    "            \n",
    "    \n",
    "        return mu_u + sum1/sum2"
   ]
  },
  {
   "cell_type": "code",
   "execution_count": 133,
   "metadata": {},
   "outputs": [],
   "source": [
    "def get_user_based_prediction(ratings, users_similarity, k = 10):\n",
    "    predictions = np.zeros(ratings.shape)\n",
    "    \n",
    "    for u in range(ratings.shape[0]):\n",
    "        for i in range(ratings.shape[1]):\n",
    "            predictions[u,i] = user_based_prediction(u,i,users_similarity,ratings, k)\n",
    "            \n",
    "    return predictions\n",
    "    \n",
    "    "
   ]
  },
  {
   "cell_type": "markdown",
   "metadata": {},
   "source": [
    "### Item-based kolaborativno filtriranje\n",
    "Računamo matricu sličnosti između filmova. Računamo kosinusno rastojanje."
   ]
  },
  {
   "cell_type": "code",
   "execution_count": 36,
   "metadata": {},
   "outputs": [],
   "source": [
    "def similarity_between_movies(ratings, epsilon=1e-9):\n",
    "    return cosine_similarity(ratings.T) + epsilon"
   ]
  },
  {
   "cell_type": "markdown",
   "metadata": {},
   "source": [
    "Previđanje ocene korisnika $u$ za film $i$ na osnovu formule:\n",
    "$ r'_{ui} = \\mu_i + \\frac{\\sum_{j \\in N^k_u(i)}sim(i,j)(r_{uj}-\\mu_j)}{\\sum_{j \\in N^k_u(i)}sim(i,j)} $"
   ]
  },
  {
   "cell_type": "code",
   "execution_count": 166,
   "metadata": {},
   "outputs": [],
   "source": [
    "def item_based_prediction(u, i, movies_similarity, ratings, k):\n",
    "        \n",
    "        neighbors = k_nearest_neighbors(i,movies_similarity,k)\n",
    "        \n",
    "        rated_i = ratings[:, i].nonzero()[0]\n",
    "        \n",
    "        mu_i = 0\n",
    "        \n",
    "        for u in rated_i:\n",
    "            mu_i += ratings[u, i]\n",
    "         \n",
    "        if len(rated_i) != 0:\n",
    "            mu_i = mu_i / len(rated_i)\n",
    "        \n",
    "        sum1 = 0.0\n",
    "        sum2 = 0.0\n",
    "    \n",
    "        for j in neighbors:\n",
    "            rated_j = ratings[:, j].nonzero()[0]\n",
    "            mu_j = 0\n",
    "            \n",
    "            if len(rated_j) != 0:\n",
    "        \n",
    "                for u in rated_j:\n",
    "                    mu_j += ratings[u, j]\n",
    "            \n",
    "                mu_j = mu_j / len(rated_j)\n",
    "\n",
    "            r_uj = ratings[u,j]\n",
    "            sum1 += movies_similarity[i][j]*(r_uj - mu_j)\n",
    "            sum2 += movies_similarity[i][j]\n",
    "            \n",
    "    \n",
    "        return mu_i + sum1/sum2"
   ]
  },
  {
   "cell_type": "code",
   "execution_count": 38,
   "metadata": {},
   "outputs": [],
   "source": [
    "def get_item_based_prediction(ratings, movies_similarity, k = 10):\n",
    "    predictions = np.zeros(ratings.shape)\n",
    "    \n",
    "    for u in range(ratings.shape[0]):\n",
    "        for i in range(ratings.shape[1]):\n",
    "\n",
    "            predictions[u,i] = item_based_prediction(u, i, movies_similarity, ratings, k)\n",
    "            \n",
    "    return predictions\n",
    "    "
   ]
  },
  {
   "cell_type": "markdown",
   "metadata": {},
   "source": [
    "### Određivanje vrednosti parametra $k$ na validacionom skupu i evaluacija na test skupu"
   ]
  },
  {
   "cell_type": "markdown",
   "metadata": {},
   "source": [
    "Funkcija **selection** deli skup podataka na skup za treniranje i skup za validaciju, a zatim iz skupa zadatih $k$-ova određuje onu vrednost parametra $k$ za koju je greška predviđanja na validacionom skupu najmanja. Vraća matricu predviđanja za najbolje $k$, obučenu koristeći sve prosleđene podatke (uniju trening i validacionog skupa), kao i skup grešaka na validacionom skupu u zavisnosti od *k* radi vizualizacije."
   ]
  },
  {
   "cell_type": "code",
   "execution_count": 162,
   "metadata": {},
   "outputs": [],
   "source": [
    "ks = [1,5,10,20,25,30,35,40,45]"
   ]
  },
  {
   "cell_type": "code",
   "execution_count": 168,
   "metadata": {},
   "outputs": [],
   "source": [
    "def selection(train_validation, ks, option):\n",
    "    \n",
    "    train, validation = train_test_splitting(train_validation, 0.2)\n",
    "    errors = np.array([])\n",
    "    \n",
    "    if option == 'user':\n",
    "        \n",
    "        similarity = similarity_between_users(train)\n",
    "        \n",
    "        for k in ks:\n",
    "            predictions = get_user_based_prediction(train, similarity, k)\n",
    "            error = np.sqrt(mean_squared_error(validation.toarray()[validation.nonzero()],predictions[validation.nonzero()]))\n",
    "        \n",
    "            errors = np.append(errors, error)\n",
    "    else:\n",
    "        similarity = similarity_between_movies(train)\n",
    "        \n",
    "        for k in ks:\n",
    "            predictions = get_item_based_prediction(train, similarity, k)\n",
    "            error = np.sqrt(mean_squared_error(validation.toarray()[validation.nonzero()],predictions[validation.nonzero()]))\n",
    "        \n",
    "            errors = np.append(errors, error)\n",
    "        \n",
    "    k_best = ks[np.argmin(errors)]\n",
    "    \n",
    "    if option == 'user':\n",
    "        similarity = similarity_between_users(train_validation)\n",
    "        return errors, get_user_based_prediction(train_validation, similarity, k_best)\n",
    "    else:\n",
    "        similarity = similarity_between_movies(train_validation)\n",
    "        return errors, get_item_based_prediction(train_validation, similarity, k_best)\n",
    "    "
   ]
  },
  {
   "cell_type": "markdown",
   "metadata": {},
   "source": [
    "Nalazimo najbolje *k* za user-based KNN, ono za koje je greška predviđanja na validacionom skupu najmanja."
   ]
  },
  {
   "cell_type": "code",
   "execution_count": 169,
   "metadata": {},
   "outputs": [],
   "source": [
    "errors_user, predictions_user = selection(train_validation, ks, 'user')"
   ]
  },
  {
   "cell_type": "code",
   "execution_count": 170,
   "metadata": {},
   "outputs": [
    {
     "name": "stdout",
     "output_type": "stream",
     "text": [
      "User-based best k:  40\n"
     ]
    }
   ],
   "source": [
    "print('User-based best k: ', ks[np.argmin(errors_user)])"
   ]
  },
  {
   "cell_type": "markdown",
   "metadata": {},
   "source": [
    "Nalazimo najbolje *k* za item-based KNN, ono za koje je greška predviđanja na validacionom skupu najmanja."
   ]
  },
  {
   "cell_type": "code",
   "execution_count": 171,
   "metadata": {},
   "outputs": [],
   "source": [
    "errors_item, predictions_item = selection(train_validation, ks, 'item')"
   ]
  },
  {
   "cell_type": "code",
   "execution_count": 172,
   "metadata": {},
   "outputs": [
    {
     "name": "stdout",
     "output_type": "stream",
     "text": [
      "Item-based best k:  35\n"
     ]
    }
   ],
   "source": [
    "print('Item-based best k: ', ks[np.argmin(errors_item)])"
   ]
  },
  {
   "cell_type": "markdown",
   "metadata": {},
   "source": [
    "Vizualizujemo zavisnost greške predviđanja (RMSE) na validacionom skupu od parametra $k$."
   ]
  },
  {
   "cell_type": "code",
   "execution_count": 173,
   "metadata": {},
   "outputs": [
    {
     "data": {
      "image/png": "[encoded data removed]",
      "text/plain": [
       "<Figure size 432x288 with 1 Axes>"
      ]
     },
     "metadata": {},
     "output_type": "display_data"
    }
   ],
   "source": [
    "plt.plot(ks, errors_user, color = 'orange', label = 'user-based')\n",
    "plt.plot(ks, errors_item, color = 'blue', label = 'item-based')\n",
    "plt.xlabel('k')\n",
    "plt.ylabel('RMSE')\n",
    "plt.legend(loc='best')\n",
    "plt.show()"
   ]
  },
  {
   "cell_type": "code",
   "execution_count": 175,
   "metadata": {},
   "outputs": [
    {
     "name": "stdout",
     "output_type": "stream",
     "text": [
      "User-based train RMSE: 0.9629265611369424\n",
      "Item-based train RMSE: 0.9169584553428691\n"
     ]
    }
   ],
   "source": [
    "error_train_user = np.sqrt(mean_squared_error(train_validation.toarray()[train_validation.nonzero()],predictions_user[train_validation.nonzero()]))\n",
    "error_train_item = np.sqrt(mean_squared_error(train_validation.toarray()[train_validation.nonzero()],predictions_item[train_validation.nonzero()]))\n",
    "print('User-based train RMSE:', error_train_user)\n",
    "print('Item-based train RMSE:', error_train_item)"
   ]
  },
  {
   "cell_type": "markdown",
   "metadata": {},
   "source": [
    "Konačno, vršimo evaluaciju na test skupu (koji nije korišćen u obučavanju)."
   ]
  },
  {
   "cell_type": "code",
   "execution_count": 174,
   "metadata": {},
   "outputs": [
    {
     "name": "stdout",
     "output_type": "stream",
     "text": [
      "User-based test RMSE: 1.1124499299251787\n",
      "Item-based test RMSE: 1.1935628286428064\n"
     ]
    }
   ],
   "source": [
    "error_test_user = np.sqrt(mean_squared_error(test.toarray()[test.nonzero()],predictions_user[test.nonzero()]))\n",
    "error_test_item = np.sqrt(mean_squared_error(test.toarray()[test.nonzero()],predictions_item[test.nonzero()]))\n",
    "print('User-based test RMSE:', error_test_user)\n",
    "print('Item-based test RMSE:', error_test_item)"
   ]
  },
  {
   "cell_type": "markdown",
   "metadata": {},
   "source": [
    "## 2. Dekompozicija matrica\n",
    "Još jedan pristup zasnovan na kolaborativnom filtriranju jeste korišćenjem singularne dekompozicije matrica (SVD). Kako je matrica ocena $R$ retka (jedan korisnik je ocenio samo mali deo filmova), ona se može dekomponovati kao $R = M\\Sigma U^T$, gde je $U$ matrica korisnika, $M$ matrica filmova, a $\\Sigma$ je dijagonalna matrica. Jednostavnosti radi, možemo posmatrati jednakost bez dijagonalne matrice, odnosno samo $R = MU^T$.\n",
    "Označimo sa $r_{ui}$ ocenu korisnika $u$ za film $i$, sa $p_u$ red matrice $M$ koji se odnosi na korisnika $u$ i sa $q_i$ kolonu matrice $U^T$ koja se odnosi na film $i$. Dobijamo jednakost na osnovu koje se vrši predviđanje ocena: $$ r_{ui}= p_uq_i$$ "
   ]
  },
  {
   "cell_type": "code",
   "execution_count": 91,
   "metadata": {},
   "outputs": [],
   "source": [
    "M, sigma, Ut = svds(train, k = 4)"
   ]
  },
  {
   "cell_type": "code",
   "execution_count": 92,
   "metadata": {},
   "outputs": [
    {
     "data": {
      "text/plain": [
       "array([[136.46752812,   0.        ,   0.        ,   0.        ],\n",
       "       [  0.        , 168.88852453,   0.        ,   0.        ],\n",
       "       [  0.        ,   0.        , 198.21038571,   0.        ],\n",
       "       [  0.        ,   0.        ,   0.        , 415.29936374]])"
      ]
     },
     "execution_count": 92,
     "metadata": {},
     "output_type": "execute_result"
    }
   ],
   "source": [
    "sigma = np.diag(sigma)\n",
    "sigma"
   ]
  },
  {
   "cell_type": "code",
   "execution_count": null,
   "metadata": {},
   "outputs": [],
   "source": [
    "predictions_svd_matrix = np.dot(np.dot(M,sigma),Ut)"
   ]
  },
  {
   "cell_type": "code",
   "execution_count": 93,
   "metadata": {},
   "outputs": [
    {
     "data": {
      "text/plain": [
       "79748"
      ]
     },
     "execution_count": 93,
     "metadata": {},
     "output_type": "execute_result"
    }
   ],
   "source": [
    "train_predictions_svd = list(predictions_svd_matrix[train.nonzero()].flatten())\n",
    "len(train_predictions_svd)"
   ]
  },
  {
   "cell_type": "code",
   "execution_count": 94,
   "metadata": {},
   "outputs": [
    {
     "data": {
      "text/plain": [
       "79748"
      ]
     },
     "execution_count": 94,
     "metadata": {},
     "output_type": "execute_result"
    }
   ],
   "source": [
    "train_ratings_svd = []\n",
    "rows,cols = train.nonzero()\n",
    "\n",
    "for row,col in zip(rows,cols):\n",
    "    train_ratings_svd.append(train[row,col])\n",
    "\n",
    "len(train_ratings_svd)"
   ]
  },
  {
   "cell_type": "code",
   "execution_count": 95,
   "metadata": {},
   "outputs": [
    {
     "name": "stdout",
     "output_type": "stream",
     "text": [
      "Singular Value Decomposition train RMSE:  2.956196813823273\n"
     ]
    }
   ],
   "source": [
    "rmse_train_svd = np.sqrt(mean_squared_error(train_ratings_svd,train_predictions_svd))\n",
    "print('Singular Value Decomposition train RMSE: ',rmse_train_svd)"
   ]
  },
  {
   "cell_type": "code",
   "execution_count": 96,
   "metadata": {},
   "outputs": [
    {
     "data": {
      "text/plain": [
       "20256"
      ]
     },
     "execution_count": 96,
     "metadata": {},
     "output_type": "execute_result"
    }
   ],
   "source": [
    "test_predictions_svd = list(predictions_svd_matrix[test.nonzero()].flatten())\n",
    "len(test_predictions_svd)"
   ]
  },
  {
   "cell_type": "code",
   "execution_count": 97,
   "metadata": {},
   "outputs": [
    {
     "data": {
      "text/plain": [
       "20256"
      ]
     },
     "execution_count": 97,
     "metadata": {},
     "output_type": "execute_result"
    }
   ],
   "source": [
    "test_ratings_svd = []\n",
    "rows,cols = test.nonzero()\n",
    "\n",
    "for row,col in zip(rows,cols):\n",
    "    test_ratings_svd.append(test[row,col])\n",
    "\n",
    "len(test_ratings_svd)"
   ]
  },
  {
   "cell_type": "code",
   "execution_count": 99,
   "metadata": {},
   "outputs": [
    {
     "name": "stdout",
     "output_type": "stream",
     "text": [
      "Singular Value Decomposition test RMSE:  3.049447802265524\n"
     ]
    }
   ],
   "source": [
    "rmse_test_svd = np.sqrt(mean_squared_error(test_ratings_svd,test_predictions_svd))\n",
    "print('Singular Value Decomposition test RMSE: ',rmse_test_svd)"
   ]
  },
  {
   "cell_type": "markdown",
   "metadata": {},
   "source": [
    "## 3. Metod latentnih faktora"
   ]
  },
  {
   "cell_type": "markdown",
   "metadata": {},
   "source": [
    "Singularna dekompozicije (SVD) matrice ocena može biti skupa jer je matrica retka. Takođe, SVD ne radi kada podaci nedostaju. To umanjuje performanse. Sledeći pristup predviđanja ocena će se sastojati u pronalaženju ovih fakora tako da se minimizuje regularizovana kvadratna greška na trening skupu: $$min_{q^*,p^*,b^*} \\sum_{(u,i) \\in s} (r_{ui} - q^T_ip_u)^2 + \\lambda(||q_i||^2 + ||p_u||^2)$$\n",
    "\n",
    "Ovo radimo koristeći stohastički gradijentni spust. Najpre inicijalizujemo tražene matrice nasumičnim vrednostima iz unifomne raspodele. Zatim za svaki par (korisnik-film, ocena) iz trening skupa ažuriramo parametre prema grešci između stvarne i predviđene ocene. Na primer, faktor korisnika $p_u$ se ažurira na sledeći način:\n",
    "$$ p_u = p_u + \\alpha*((r_{ui} - r'_{ui})q_i - \\lambda p_u)$$\n",
    "\n",
    "Jednakost na osnovu koje se vrši predviđanje ocena: $$ r_{ui}= p_uq_i$$ "
   ]
  },
  {
   "cell_type": "code",
   "execution_count": 104,
   "metadata": {},
   "outputs": [],
   "source": [
    "# RMSE za SGD\n",
    "def RMSE(data, Q, P):\n",
    "    I = data != 0  # indikatorska funkcija o ocenjenim filmovima\n",
    "    ME = I * (data - np.dot(P, Q.T))  # greska izmedju stvarnih i predvidjenih vrednosti\n",
    "    MSE = ME**2  \n",
    "    return np.sqrt(np.sum(MSE)/np.sum(I)) "
   ]
  },
  {
   "cell_type": "code",
   "execution_count": 105,
   "metadata": {},
   "outputs": [],
   "source": [
    "def stohastic_gradient_descent(train, test, f, number_of_epochs, l, alpha):\n",
    "    \n",
    "    users,items = train.nonzero()    \n",
    "    P = np.random.rand(train.shape[0], f) # latentni faktori za korisnike\n",
    "    Q = np.random.rand(train.shape[1], f) # latentni faktori za filmove\n",
    "    \n",
    "    train_errors = []\n",
    "    test_errors = []\n",
    "    \n",
    "    for epoch in range(number_of_epochs):\n",
    "        for u, i in zip(users, items):\n",
    "            diff = train[u, i] - np.dot(P[u,:], Q[i,:].T) # razlika izmedju prave i predvidjene vrednosti\n",
    "            # azuriranje faktora za korisnike\n",
    "            P[u, :] += alpha * (diff * Q[i,:] - l * P[u,:])\n",
    "            #azuriranje faktora za filmove\n",
    "            Q[i, :] += alpha * (diff * P[u,:] - l * Q[i, :])\n",
    "        train_errors.append(RMSE(train.toarray(),Q,P))\n",
    "        test_errors.append(RMSE(test.toarray(),Q,P))\n",
    "    \n",
    "    return train_errors, test_errors\n"
   ]
  },
  {
   "cell_type": "markdown",
   "metadata": {},
   "source": [
    "Najpre pronadjimo optimalnan broj latentnih faktora, tj. onaj koji minimizuje RMSE na trening skupu. Ostali parametri (regularizacioni parametar $\\lambda$ i brzina učenja $\\alpha$) za sad su fiksirani."
   ]
  },
  {
   "cell_type": "code",
   "execution_count": 131,
   "metadata": {},
   "outputs": [],
   "source": [
    "number_of_epochs = 10\n",
    "l = 0.5 # regularizacioni parametar \n",
    "alpha = 0.01 # brzina učenja\n",
    "fs = [2*i for i in range(1,10)]\n",
    "train_rmse = np.array([])\n",
    "\n",
    "for f in fs:\n",
    "    train_errors, test_errors = stohastic_gradient_descent(train_reduced, test_reduced, f, number_of_epochs, l, alpha)\n",
    "    train_rmse = np.append(train_rmse,train_errors[-1])\n"
   ]
  },
  {
   "cell_type": "code",
   "execution_count": 132,
   "metadata": {},
   "outputs": [
    {
     "name": "stdout",
     "output_type": "stream",
     "text": [
      "Najbolji broj latentnih faktora:  18\n"
     ]
    }
   ],
   "source": [
    "best_f = fs[train_rmse.argmin()]\n",
    "print('Najbolji broj latentnih faktora: ', best_f)"
   ]
  },
  {
   "cell_type": "code",
   "execution_count": 133,
   "metadata": {},
   "outputs": [
    {
     "data": {
      "image/png": "[encoded data removed]",
      "text/plain": [
       "<Figure size 432x288 with 1 Axes>"
      ]
     },
     "metadata": {},
     "output_type": "display_data"
    }
   ],
   "source": [
    "plt.plot(fs,train_rmse,'x')\n",
    "plt.xlabel('Broj latentnih faktora')\n",
    "plt.ylabel('RMSE')\n",
    "plt.show()"
   ]
  },
  {
   "cell_type": "markdown",
   "metadata": {},
   "source": [
    "Sada postavljamo broj latentnih faktora na 18 i tražimo najbolji regularizacioni parametar $\\lambda$."
   ]
  },
  {
   "cell_type": "code",
   "execution_count": 136,
   "metadata": {},
   "outputs": [],
   "source": [
    "alpha = 0.01 # brzina učenja\n",
    "train_rmse = np.array([])\n",
    "lambdas = [i*0.01 for i in np.linspace(1,50,15)]\n",
    "for l in lambdas:\n",
    "    train_errors, test_errors = stohastic_gradient_descent(train_reduced, test_reduced, best_f, number_of_epochs, l, alpha)\n",
    "    train_rmse = np.append(train_rmse,train_errors[-1])\n"
   ]
  },
  {
   "cell_type": "code",
   "execution_count": 137,
   "metadata": {},
   "outputs": [
    {
     "name": "stdout",
     "output_type": "stream",
     "text": [
      "Najbolji regularizacioni parametar:  0.01\n"
     ]
    }
   ],
   "source": [
    "best_l = lambdas[train_rmse.argmin()]\n",
    "print('Najbolji regularizacioni parametar: ', best_l)"
   ]
  },
  {
   "cell_type": "code",
   "execution_count": 138,
   "metadata": {},
   "outputs": [
    {
     "data": {
      "image/png": "[encoded data removed]",
      "text/plain": [
       "<Figure size 432x288 with 1 Axes>"
      ]
     },
     "metadata": {},
     "output_type": "display_data"
    }
   ],
   "source": [
    "plt.plot(lambdas,train_rmse,'x')\n",
    "plt.xlabel('Regularizacioni parametar')\n",
    "plt.ylabel('RMSE')\n",
    "plt.show()"
   ]
  },
  {
   "cell_type": "markdown",
   "metadata": {},
   "source": [
    "Sada fiksiramo i $\\lambda$ na 0.01. Najzad, nalazimo najbolju brzinu učenja (*learning rate*)."
   ]
  },
  {
   "cell_type": "code",
   "execution_count": 153,
   "metadata": {},
   "outputs": [],
   "source": [
    "alphas = [0.001*i for i in np.linspace(1,10,10)]\n",
    "train_rmse = np.array([])\n",
    "\n",
    "for alpha in alphas:\n",
    "    train_errors, test_errors = stohastic_gradient_descent(train_reduced, test_reduced, best_f, number_of_epochs, best_l, alpha)\n",
    "    train_rmse = np.append(train_rmse,train_errors[-1])\n"
   ]
  },
  {
   "cell_type": "code",
   "execution_count": 154,
   "metadata": {},
   "outputs": [
    {
     "name": "stdout",
     "output_type": "stream",
     "text": [
      "Najbolja brzina ucenja:  0.009000000000000001\n"
     ]
    }
   ],
   "source": [
    "best_alpha = alphas[train_rmse.argmin()]\n",
    "print('Najbolja brzina ucenja: ', best_alpha)"
   ]
  },
  {
   "cell_type": "code",
   "execution_count": 155,
   "metadata": {},
   "outputs": [
    {
     "data": {
      "image/png": "[encoded data removed]",
      "text/plain": [
       "<Figure size 432x288 with 1 Axes>"
      ]
     },
     "metadata": {},
     "output_type": "display_data"
    }
   ],
   "source": [
    "plt.plot(alphas,train_rmse,'x')\n",
    "plt.xlabel('Brzina učenja')\n",
    "plt.ylabel('RMSE')\n",
    "plt.show()"
   ]
  },
  {
   "cell_type": "markdown",
   "metadata": {},
   "source": [
    "Pogledajmo kako se smanjuje RMSE u zavisnosti od broja epoha, sa pronađenim optimalnim parametrima."
   ]
  },
  {
   "cell_type": "code",
   "execution_count": 161,
   "metadata": {},
   "outputs": [],
   "source": [
    "train_errors, test_errors = stohastic_gradient_descent(train_reduced, test_reduced, best_f, number_of_epochs, best_l, best_alpha)"
   ]
  },
  {
   "cell_type": "code",
   "execution_count": 162,
   "metadata": {},
   "outputs": [
    {
     "data": {
      "image/png": "[encoded data removed]",
      "text/plain": [
       "<Figure size 432x288 with 1 Axes>"
      ]
     },
     "metadata": {},
     "output_type": "display_data"
    }
   ],
   "source": [
    "plt.plot(train_errors, color=\"orange\", label='train RMSE')\n",
    "plt.plot(test_errors, color=\"blue\", label='test RMSE')\n",
    "plt.xlabel('epochs')\n",
    "plt.ylabel('RMSE')\n",
    "plt.legend(loc = 'best')\n",
    "plt.show()"
   ]
  }
 ],
 "metadata": {
  "kernelspec": {
   "display_name": "Python 3",
   "language": "python",
   "name": "python3"
  },
  "language_info": {
   "codemirror_mode": {
    "name": "ipython",
    "version": 3
   },
   "file_extension": ".py",
   "mimetype": "text/x-python",
   "name": "python",
   "nbconvert_exporter": "python",
   "pygments_lexer": "ipython3",
   "version": "3.6.8"
  }
 },
 "nbformat": 4,
 "nbformat_minor": 2
}
