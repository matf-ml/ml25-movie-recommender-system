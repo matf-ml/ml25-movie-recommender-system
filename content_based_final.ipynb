{
 "cells": [
  {
   "cell_type": "markdown",
   "metadata": {},
   "source": [
    "# CONTENT-BASED sistem za preporuku filmova koristeći TF-IDF"
   ]
  },
  {
   "cell_type": "markdown",
   "metadata": {},
   "source": [
    "Cilj nam je izgradnja sistema za preporuku filmova koji je zasnovan na sadržaju (*content-based*), koristeći TF-IDF (*term frequency-inverse document frequency*). Zatim implementiramo funkciju koja koja za datog korisnika i film predviđa ocenu koju bi taj korisnik dao tom filmu."
   ]
  },
  {
   "cell_type": "code",
   "execution_count": 1,
   "metadata": {},
   "outputs": [],
   "source": [
    "import numpy as np\n",
    "import pandas as pd\n",
    "import matplotlib.pyplot as plt\n",
    "%matplotlib inline\n",
    "from sklearn.feature_extraction.text import TfidfVectorizer\n",
    "from sklearn.metrics.pairwise import cosine_similarity\n",
    "from sklearn.model_selection import train_test_split\n",
    "from ast import literal_eval\n",
    "from scipy import sparse as sps\n",
    "from sklearn.metrics import mean_squared_error\n",
    "import math\n",
    "import warnings; warnings.simplefilter('ignore')"
   ]
  },
  {
   "cell_type": "markdown",
   "metadata": {},
   "source": [
    "## Sistem za preporuku zasnovan na opisu filma\n",
    "Pravimo sistem za preporuku koristeći opis filma (atribut *overview*) i etikete (atribut *tagline*). Najpre učitajmo i pripremimo neophodne podatke."
   ]
  },
  {
   "cell_type": "code",
   "execution_count": 2,
   "metadata": {},
   "outputs": [
    {
     "data": {
      "text/html": [
       "<div>\n",
       "<style scoped>\n",
       "    .dataframe tbody tr th:only-of-type {\n",
       "        vertical-align: middle;\n",
       "    }\n",
       "\n",
       "    .dataframe tbody tr th {\n",
       "        vertical-align: top;\n",
       "    }\n",
       "\n",
       "    .dataframe thead th {\n",
       "        text-align: right;\n",
       "    }\n",
       "</style>\n",
       "<table border=\"1\" class=\"dataframe\">\n",
       "  <thead>\n",
       "    <tr style=\"text-align: right;\">\n",
       "      <th></th>\n",
       "      <th>adult</th>\n",
       "      <th>belongs_to_collection</th>\n",
       "      <th>budget</th>\n",
       "      <th>genres</th>\n",
       "      <th>homepage</th>\n",
       "      <th>id</th>\n",
       "      <th>imdb_id</th>\n",
       "      <th>original_language</th>\n",
       "      <th>original_title</th>\n",
       "      <th>overview</th>\n",
       "      <th>...</th>\n",
       "      <th>release_date</th>\n",
       "      <th>revenue</th>\n",
       "      <th>runtime</th>\n",
       "      <th>spoken_languages</th>\n",
       "      <th>status</th>\n",
       "      <th>tagline</th>\n",
       "      <th>title</th>\n",
       "      <th>video</th>\n",
       "      <th>vote_average</th>\n",
       "      <th>vote_count</th>\n",
       "    </tr>\n",
       "  </thead>\n",
       "  <tbody>\n",
       "    <tr>\n",
       "      <th>0</th>\n",
       "      <td>False</td>\n",
       "      <td>{'id': 10194, 'name': 'Toy Story Collection', ...</td>\n",
       "      <td>30000000</td>\n",
       "      <td>[{'id': 16, 'name': 'Animation'}, {'id': 35, '...</td>\n",
       "      <td>http://toystory.disney.com/toy-story</td>\n",
       "      <td>862</td>\n",
       "      <td>tt0114709</td>\n",
       "      <td>en</td>\n",
       "      <td>Toy Story</td>\n",
       "      <td>Led by Woody, Andy's toys live happily in his ...</td>\n",
       "      <td>...</td>\n",
       "      <td>1995-10-30</td>\n",
       "      <td>373554033.0</td>\n",
       "      <td>81.0</td>\n",
       "      <td>[{'iso_639_1': 'en', 'name': 'English'}]</td>\n",
       "      <td>Released</td>\n",
       "      <td>NaN</td>\n",
       "      <td>Toy Story</td>\n",
       "      <td>False</td>\n",
       "      <td>7.7</td>\n",
       "      <td>5415.0</td>\n",
       "    </tr>\n",
       "    <tr>\n",
       "      <th>1</th>\n",
       "      <td>False</td>\n",
       "      <td>NaN</td>\n",
       "      <td>65000000</td>\n",
       "      <td>[{'id': 12, 'name': 'Adventure'}, {'id': 14, '...</td>\n",
       "      <td>NaN</td>\n",
       "      <td>8844</td>\n",
       "      <td>tt0113497</td>\n",
       "      <td>en</td>\n",
       "      <td>Jumanji</td>\n",
       "      <td>When siblings Judy and Peter discover an encha...</td>\n",
       "      <td>...</td>\n",
       "      <td>1995-12-15</td>\n",
       "      <td>262797249.0</td>\n",
       "      <td>104.0</td>\n",
       "      <td>[{'iso_639_1': 'en', 'name': 'English'}, {'iso...</td>\n",
       "      <td>Released</td>\n",
       "      <td>Roll the dice and unleash the excitement!</td>\n",
       "      <td>Jumanji</td>\n",
       "      <td>False</td>\n",
       "      <td>6.9</td>\n",
       "      <td>2413.0</td>\n",
       "    </tr>\n",
       "    <tr>\n",
       "      <th>2</th>\n",
       "      <td>False</td>\n",
       "      <td>{'id': 119050, 'name': 'Grumpy Old Men Collect...</td>\n",
       "      <td>0</td>\n",
       "      <td>[{'id': 10749, 'name': 'Romance'}, {'id': 35, ...</td>\n",
       "      <td>NaN</td>\n",
       "      <td>15602</td>\n",
       "      <td>tt0113228</td>\n",
       "      <td>en</td>\n",
       "      <td>Grumpier Old Men</td>\n",
       "      <td>A family wedding reignites the ancient feud be...</td>\n",
       "      <td>...</td>\n",
       "      <td>1995-12-22</td>\n",
       "      <td>0.0</td>\n",
       "      <td>101.0</td>\n",
       "      <td>[{'iso_639_1': 'en', 'name': 'English'}]</td>\n",
       "      <td>Released</td>\n",
       "      <td>Still Yelling. Still Fighting. Still Ready for...</td>\n",
       "      <td>Grumpier Old Men</td>\n",
       "      <td>False</td>\n",
       "      <td>6.5</td>\n",
       "      <td>92.0</td>\n",
       "    </tr>\n",
       "    <tr>\n",
       "      <th>3</th>\n",
       "      <td>False</td>\n",
       "      <td>NaN</td>\n",
       "      <td>16000000</td>\n",
       "      <td>[{'id': 35, 'name': 'Comedy'}, {'id': 18, 'nam...</td>\n",
       "      <td>NaN</td>\n",
       "      <td>31357</td>\n",
       "      <td>tt0114885</td>\n",
       "      <td>en</td>\n",
       "      <td>Waiting to Exhale</td>\n",
       "      <td>Cheated on, mistreated and stepped on, the wom...</td>\n",
       "      <td>...</td>\n",
       "      <td>1995-12-22</td>\n",
       "      <td>81452156.0</td>\n",
       "      <td>127.0</td>\n",
       "      <td>[{'iso_639_1': 'en', 'name': 'English'}]</td>\n",
       "      <td>Released</td>\n",
       "      <td>Friends are the people who let you be yourself...</td>\n",
       "      <td>Waiting to Exhale</td>\n",
       "      <td>False</td>\n",
       "      <td>6.1</td>\n",
       "      <td>34.0</td>\n",
       "    </tr>\n",
       "    <tr>\n",
       "      <th>4</th>\n",
       "      <td>False</td>\n",
       "      <td>{'id': 96871, 'name': 'Father of the Bride Col...</td>\n",
       "      <td>0</td>\n",
       "      <td>[{'id': 35, 'name': 'Comedy'}]</td>\n",
       "      <td>NaN</td>\n",
       "      <td>11862</td>\n",
       "      <td>tt0113041</td>\n",
       "      <td>en</td>\n",
       "      <td>Father of the Bride Part II</td>\n",
       "      <td>Just when George Banks has recovered from his ...</td>\n",
       "      <td>...</td>\n",
       "      <td>1995-02-10</td>\n",
       "      <td>76578911.0</td>\n",
       "      <td>106.0</td>\n",
       "      <td>[{'iso_639_1': 'en', 'name': 'English'}]</td>\n",
       "      <td>Released</td>\n",
       "      <td>Just When His World Is Back To Normal... He's ...</td>\n",
       "      <td>Father of the Bride Part II</td>\n",
       "      <td>False</td>\n",
       "      <td>5.7</td>\n",
       "      <td>173.0</td>\n",
       "    </tr>\n",
       "  </tbody>\n",
       "</table>\n",
       "<p>5 rows × 24 columns</p>\n",
       "</div>"
      ],
      "text/plain": [
       "   adult                              belongs_to_collection    budget  \\\n",
       "0  False  {'id': 10194, 'name': 'Toy Story Collection', ...  30000000   \n",
       "1  False                                                NaN  65000000   \n",
       "2  False  {'id': 119050, 'name': 'Grumpy Old Men Collect...         0   \n",
       "3  False                                                NaN  16000000   \n",
       "4  False  {'id': 96871, 'name': 'Father of the Bride Col...         0   \n",
       "\n",
       "                                              genres  \\\n",
       "0  [{'id': 16, 'name': 'Animation'}, {'id': 35, '...   \n",
       "1  [{'id': 12, 'name': 'Adventure'}, {'id': 14, '...   \n",
       "2  [{'id': 10749, 'name': 'Romance'}, {'id': 35, ...   \n",
       "3  [{'id': 35, 'name': 'Comedy'}, {'id': 18, 'nam...   \n",
       "4                     [{'id': 35, 'name': 'Comedy'}]   \n",
       "\n",
       "                               homepage     id    imdb_id original_language  \\\n",
       "0  http://toystory.disney.com/toy-story    862  tt0114709                en   \n",
       "1                                   NaN   8844  tt0113497                en   \n",
       "2                                   NaN  15602  tt0113228                en   \n",
       "3                                   NaN  31357  tt0114885                en   \n",
       "4                                   NaN  11862  tt0113041                en   \n",
       "\n",
       "                original_title  \\\n",
       "0                    Toy Story   \n",
       "1                      Jumanji   \n",
       "2             Grumpier Old Men   \n",
       "3            Waiting to Exhale   \n",
       "4  Father of the Bride Part II   \n",
       "\n",
       "                                            overview  ... release_date  \\\n",
       "0  Led by Woody, Andy's toys live happily in his ...  ...   1995-10-30   \n",
       "1  When siblings Judy and Peter discover an encha...  ...   1995-12-15   \n",
       "2  A family wedding reignites the ancient feud be...  ...   1995-12-22   \n",
       "3  Cheated on, mistreated and stepped on, the wom...  ...   1995-12-22   \n",
       "4  Just when George Banks has recovered from his ...  ...   1995-02-10   \n",
       "\n",
       "       revenue runtime                                   spoken_languages  \\\n",
       "0  373554033.0    81.0           [{'iso_639_1': 'en', 'name': 'English'}]   \n",
       "1  262797249.0   104.0  [{'iso_639_1': 'en', 'name': 'English'}, {'iso...   \n",
       "2          0.0   101.0           [{'iso_639_1': 'en', 'name': 'English'}]   \n",
       "3   81452156.0   127.0           [{'iso_639_1': 'en', 'name': 'English'}]   \n",
       "4   76578911.0   106.0           [{'iso_639_1': 'en', 'name': 'English'}]   \n",
       "\n",
       "     status                                            tagline  \\\n",
       "0  Released                                                NaN   \n",
       "1  Released          Roll the dice and unleash the excitement!   \n",
       "2  Released  Still Yelling. Still Fighting. Still Ready for...   \n",
       "3  Released  Friends are the people who let you be yourself...   \n",
       "4  Released  Just When His World Is Back To Normal... He's ...   \n",
       "\n",
       "                         title  video vote_average vote_count  \n",
       "0                    Toy Story  False          7.7     5415.0  \n",
       "1                      Jumanji  False          6.9     2413.0  \n",
       "2             Grumpier Old Men  False          6.5       92.0  \n",
       "3            Waiting to Exhale  False          6.1       34.0  \n",
       "4  Father of the Bride Part II  False          5.7      173.0  \n",
       "\n",
       "[5 rows x 24 columns]"
      ]
     },
     "execution_count": 2,
     "metadata": {},
     "output_type": "execute_result"
    }
   ],
   "source": [
    "movies = pd.read_csv('the-movies-dataset/movies_metadata.csv')\n",
    "movies.head()"
   ]
  },
  {
   "cell_type": "code",
   "execution_count": 3,
   "metadata": {},
   "outputs": [
    {
     "name": "stdout",
     "output_type": "stream",
     "text": [
      "<class 'pandas.core.frame.DataFrame'>\n",
      "RangeIndex: 45466 entries, 0 to 45465\n",
      "Data columns (total 24 columns):\n",
      "adult                    45466 non-null object\n",
      "belongs_to_collection    4494 non-null object\n",
      "budget                   45466 non-null object\n",
      "genres                   45466 non-null object\n",
      "homepage                 7782 non-null object\n",
      "id                       45466 non-null object\n",
      "imdb_id                  45449 non-null object\n",
      "original_language        45455 non-null object\n",
      "original_title           45466 non-null object\n",
      "overview                 44512 non-null object\n",
      "popularity               45461 non-null object\n",
      "poster_path              45080 non-null object\n",
      "production_companies     45463 non-null object\n",
      "production_countries     45463 non-null object\n",
      "release_date             45379 non-null object\n",
      "revenue                  45460 non-null float64\n",
      "runtime                  45203 non-null float64\n",
      "spoken_languages         45460 non-null object\n",
      "status                   45379 non-null object\n",
      "tagline                  20412 non-null object\n",
      "title                    45460 non-null object\n",
      "video                    45460 non-null object\n",
      "vote_average             45460 non-null float64\n",
      "vote_count               45460 non-null float64\n",
      "dtypes: float64(4), object(20)\n",
      "memory usage: 8.3+ MB\n",
      "None\n"
     ]
    }
   ],
   "source": [
    "print(movies.info())"
   ]
  },
  {
   "cell_type": "markdown",
   "metadata": {},
   "source": [
    "Zbor računarskih ograničenja, koristićemo podskup skupa svih filmova, koji se sastoji od oko 9,000 filmova, onih za koje postoje informacije u *ratings_small.csv* i *links_small.csv*. Filtriramo *movies*. "
   ]
  },
  {
   "cell_type": "code",
   "execution_count": 4,
   "metadata": {},
   "outputs": [],
   "source": [
    "links_small = pd.read_csv('the-movies-dataset/links_small.csv')\n",
    "links_small = links_small[links_small['tmdbId'].notnull()]\n",
    "links_small['tmdbId'] = links_small['tmdbId'].astype('int')"
   ]
  },
  {
   "cell_type": "markdown",
   "metadata": {},
   "source": [
    "Kolona *id* sadrži podatke tipa **object**. Identifikator treba da bude ceo broj. Pokušamo kastovanje. Nailazimo na problem! Neki redovi sadrže loše formatirane identifikatore (nisu numeričke vrednosti), te kastovanje nije moguće. To su redovi 19730, 29503, 35587. Eliminišemo te redove."
   ]
  },
  {
   "cell_type": "code",
   "execution_count": 5,
   "metadata": {},
   "outputs": [
    {
     "name": "stdout",
     "output_type": "stream",
     "text": [
      "                                                   adult  \\\n",
      "19730                                 - Written by Ørnås   \n",
      "29503   Rune Balot goes to a casino connected to the ...   \n",
      "35587   Avalanche Sharks tells the story of a bikini ...   \n",
      "\n",
      "      belongs_to_collection                            budget  \\\n",
      "19730              0.065736  /ff9qCepilowshEtG2GYWwzt2bs4.jpg   \n",
      "29503              1.931659  /zV8bHuSL6WXoD6FWogP9j4x80bL.jpg   \n",
      "35587              2.185485  /zaSf5OG7V8X8gqFvly88zDdRm46.jpg   \n",
      "\n",
      "                                                  genres  \\\n",
      "19730  [{'name': 'Carousel Productions', 'id': 11176}...   \n",
      "29503  [{'name': 'Aniplex', 'id': 2883}, {'name': 'Go...   \n",
      "35587  [{'name': 'Odyssey Media', 'id': 17161}, {'nam...   \n",
      "\n",
      "                                                homepage          id imdb_id  \\\n",
      "19730  [{'iso_3166_1': 'CA', 'name': 'Canada'}, {'iso...  1997-08-20       0   \n",
      "29503  [{'iso_3166_1': 'US', 'name': 'United States o...  2012-09-29       0   \n",
      "35587           [{'iso_3166_1': 'CA', 'name': 'Canada'}]  2014-01-01       0   \n",
      "\n",
      "      original_language                            original_title  overview  \\\n",
      "19730             104.0  [{'iso_639_1': 'en', 'name': 'English'}]  Released   \n",
      "29503              68.0      [{'iso_639_1': 'ja', 'name': '日本語'}]  Released   \n",
      "35587              82.0  [{'iso_639_1': 'en', 'name': 'English'}]  Released   \n",
      "\n",
      "       ... release_date revenue runtime spoken_languages status  tagline  \\\n",
      "19730  ...            1     NaN     NaN              NaN    NaN      NaN   \n",
      "29503  ...           12     NaN     NaN              NaN    NaN      NaN   \n",
      "35587  ...           22     NaN     NaN              NaN    NaN      NaN   \n",
      "\n",
      "       title video vote_average vote_count  \n",
      "19730    NaN   NaN          NaN        NaN  \n",
      "29503    NaN   NaN          NaN        NaN  \n",
      "35587    NaN   NaN          NaN        NaN  \n",
      "\n",
      "[3 rows x 24 columns]\n"
     ]
    }
   ],
   "source": [
    "#movies['id'] = movies['id'].astype('int') -- error\n",
    "print(movies[pd.to_numeric(movies['id'], errors='coerce').isnull()])"
   ]
  },
  {
   "cell_type": "code",
   "execution_count": 6,
   "metadata": {},
   "outputs": [],
   "source": [
    "movies = movies.drop([19730, 29503, 35587])"
   ]
  },
  {
   "cell_type": "code",
   "execution_count": 7,
   "metadata": {},
   "outputs": [],
   "source": [
    "movies['id'] = movies['id'].astype('int')"
   ]
  },
  {
   "cell_type": "markdown",
   "metadata": {},
   "source": [
    "Eliminišemo i duplirane unose iz *movies*, ako ima takvih."
   ]
  },
  {
   "cell_type": "code",
   "execution_count": 8,
   "metadata": {},
   "outputs": [
    {
     "name": "stdout",
     "output_type": "stream",
     "text": [
      "(45463, 24)\n",
      "(45450, 24)\n"
     ]
    }
   ],
   "source": [
    "print(movies.shape)\n",
    "movies = movies.drop_duplicates()\n",
    "print(movies.shape)"
   ]
  },
  {
   "cell_type": "markdown",
   "metadata": {},
   "source": [
    "*movies_small* sadrži oko 9,000 filmova iz *movies*, i to onih za koje postoji ocena u *ratings_small*. To je skup podataka sa kojim ćemo nadalje raditi."
   ]
  },
  {
   "cell_type": "code",
   "execution_count": 9,
   "metadata": {},
   "outputs": [
    {
     "data": {
      "text/plain": [
       "(9092, 24)"
      ]
     },
     "execution_count": 9,
     "metadata": {},
     "output_type": "execute_result"
    }
   ],
   "source": [
    "movies_small = movies[movies['id'].isin(links_small['tmdbId'])]\n",
    "movies_small.shape"
   ]
  },
  {
   "cell_type": "code",
   "execution_count": 10,
   "metadata": {},
   "outputs": [
    {
     "data": {
      "text/plain": [
       "(9082,)"
      ]
     },
     "execution_count": 10,
     "metadata": {},
     "output_type": "execute_result"
    }
   ],
   "source": [
    "movies_small['id'].unique().shape"
   ]
  },
  {
   "cell_type": "markdown",
   "metadata": {},
   "source": [
    "Vidimo da u *movies_small* imamo nekoliko redova koji se odnose na isti film, tj. sa istom vrednošću atributa *id*. Hoćemo da uklonimo te redove. Orišimo kolone koje nećemo koristiti u daljoj analizi da vidimo da li sa **drop_duplicates** možemo doći do jedinstvenog unosa za svaki film."
   ]
  },
  {
   "cell_type": "code",
   "execution_count": 11,
   "metadata": {},
   "outputs": [
    {
     "name": "stdout",
     "output_type": "stream",
     "text": [
      "<class 'pandas.core.frame.DataFrame'>\n",
      "Int64Index: 9092 entries, 0 to 45265\n",
      "Data columns (total 5 columns):\n",
      "id          9092 non-null int64\n",
      "imdb_id     9092 non-null object\n",
      "overview    9080 non-null object\n",
      "tagline     7031 non-null object\n",
      "title       9092 non-null object\n",
      "dtypes: int64(1), object(4)\n",
      "memory usage: 426.2+ KB\n"
     ]
    }
   ],
   "source": [
    "movies_small = movies_small.drop(columns = ['adult','belongs_to_collection','production_countries','budget','genres','homepage','original_language','original_title','popularity','poster_path','production_companies','status','runtime','revenue','video','spoken_languages','release_date','vote_count','vote_average'])\n",
    "movies_small.info()"
   ]
  },
  {
   "cell_type": "code",
   "execution_count": 12,
   "metadata": {},
   "outputs": [
    {
     "name": "stdout",
     "output_type": "stream",
     "text": [
      "(9092, 5)\n",
      "(9082, 5)\n"
     ]
    }
   ],
   "source": [
    "print(movies_small.shape)\n",
    "movies_small = movies_small.drop_duplicates()\n",
    "print(movies_small.shape)"
   ]
  },
  {
   "cell_type": "markdown",
   "metadata": {},
   "source": [
    "Uspeh! Nakon čišćenja, u skupu *movies_small* nam ostaje 9,082 filmova. Filtriramo i skup *links_small* (biće potreban kasnije kod predviđanja ocena) tako da ostanu samo informacije o filmovima iz *movies_small*."
   ]
  },
  {
   "cell_type": "code",
   "execution_count": 13,
   "metadata": {},
   "outputs": [
    {
     "name": "stdout",
     "output_type": "stream",
     "text": [
      "(9112, 3)\n",
      "(9082, 3)\n"
     ]
    }
   ],
   "source": [
    "print(links_small.shape)\n",
    "links_small = links_small[links_small['tmdbId'].isin(movies_small['id'])]\n",
    "print(links_small.shape)"
   ]
  },
  {
   "cell_type": "markdown",
   "metadata": {},
   "source": [
    "Pravimo novu kolonu *description* koja će sadržati informacije iz kolona *overview* i *tagline*. Sve nedostajuće vrednosti (NaN) zamenimo sa praznim stringom ('')."
   ]
  },
  {
   "cell_type": "code",
   "execution_count": 14,
   "metadata": {},
   "outputs": [
    {
     "data": {
      "text/plain": [
       "0                                                     \n",
       "1            Roll the dice and unleash the excitement!\n",
       "2    Still Yelling. Still Fighting. Still Ready for...\n",
       "3    Friends are the people who let you be yourself...\n",
       "4    Just When His World Is Back To Normal... He's ...\n",
       "Name: tagline, dtype: object"
      ]
     },
     "execution_count": 14,
     "metadata": {},
     "output_type": "execute_result"
    }
   ],
   "source": [
    "movies_small['tagline'] = movies_small['tagline'].fillna('')\n",
    "movies_small['tagline'].head()"
   ]
  },
  {
   "cell_type": "code",
   "execution_count": 15,
   "metadata": {},
   "outputs": [
    {
     "data": {
      "text/plain": [
       "0    Led by Woody, Andy's toys live happily in his ...\n",
       "1    When siblings Judy and Peter discover an encha...\n",
       "2    A family wedding reignites the ancient feud be...\n",
       "3    Cheated on, mistreated and stepped on, the wom...\n",
       "4    Just when George Banks has recovered from his ...\n",
       "Name: description, dtype: object"
      ]
     },
     "execution_count": 15,
     "metadata": {},
     "output_type": "execute_result"
    }
   ],
   "source": [
    "movies_small['description'] = movies_small['overview'] + movies_small['tagline']\n",
    "movies_small['description'] = movies_small['description'].fillna('')\n",
    "movies_small['description'].head()"
   ]
  },
  {
   "cell_type": "markdown",
   "metadata": {},
   "source": [
    "Koristimo **TF-IDF** metriku za računanje težinske sličnosti između vreća reči (*bag of words*). "
   ]
  },
  {
   "cell_type": "code",
   "execution_count": 16,
   "metadata": {},
   "outputs": [],
   "source": [
    "movies_small = movies_small.sort_values(by = 'id')"
   ]
  },
  {
   "cell_type": "code",
   "execution_count": 17,
   "metadata": {},
   "outputs": [],
   "source": [
    "tf = TfidfVectorizer(analyzer='word',stop_words='english')\n",
    "tfidf_matrix = tf.fit_transform(movies_small['description'])"
   ]
  },
  {
   "cell_type": "markdown",
   "metadata": {},
   "source": [
    "U 9,082 opisa javlja nam se 30,708 različitih reči."
   ]
  },
  {
   "cell_type": "code",
   "execution_count": 18,
   "metadata": {},
   "outputs": [
    {
     "name": "stdout",
     "output_type": "stream",
     "text": [
      "(9082, 30708)\n"
     ]
    }
   ],
   "source": [
    "print(tfidf_matrix.shape)"
   ]
  },
  {
   "cell_type": "markdown",
   "metadata": {},
   "source": [
    "Sada pravimo matricu sličnosti. Računamo kosinusno rastojanje između filmova, koje se definiše na sledeći način: $cosine(x,y)=\\frac{x*y^T}{||x||*||y||}$."
   ]
  },
  {
   "cell_type": "code",
   "execution_count": 19,
   "metadata": {},
   "outputs": [
    {
     "name": "stdout",
     "output_type": "stream",
     "text": [
      "(9082, 9082)\n"
     ]
    }
   ],
   "source": [
    "epsilon = 1e-9\n",
    "cos_sim1 = cosine_similarity(tfidf_matrix) + epsilon #dodajemo malu vrednost da ne bi imali 0 u slučaju da je sličnost između filmova 0 \n",
    "print(cos_sim1.shape)"
   ]
  },
  {
   "cell_type": "markdown",
   "metadata": {},
   "source": [
    "Nakon što smo izračunali matricu sličnosti za sve filmove iz skupa *movies_small*, sledeći korak je dobijanje preporuke. Najpre promenimo indeksiranje u tabeli *train*, tako da naslov filma (atribut *title*) bude indeks."
   ]
  },
  {
   "cell_type": "code",
   "execution_count": 20,
   "metadata": {},
   "outputs": [],
   "source": [
    "movies_small = movies_small.reset_index()\n",
    "titles = movies_small['title']\n",
    "indices = pd.Series(movies_small.index,index = movies_small['title'])"
   ]
  },
  {
   "cell_type": "markdown",
   "metadata": {},
   "source": [
    "Definišemo funkciju **recommend** koja za uneti naslov filma vraća 25 najsličnijih filmova po opisu, prema izračunatoj matrici sličnosti."
   ]
  },
  {
   "cell_type": "code",
   "execution_count": 21,
   "metadata": {},
   "outputs": [],
   "source": [
    "def recommend(title, cos_sim):\n",
    "    index = indices[title] # indeks filma sa naslovom title\n",
    "    similarities = list(enumerate(cos_sim[index])) # parovi film-slicnost za trazeni film\n",
    "    similarities = sorted(similarities,key=lambda x: x[1],reverse=True) # sortiranje parova opadajuce po slicnosti\n",
    "    similar_25 = similarities[1:26] # na poziciji 0 je slicnost filma sa samim sobom, uzimamo narednih 25\n",
    "    movie_indices = [pair[0] for pair in similar_25]\n",
    "    return pd.DataFrame(titles.iloc[movie_indices])"
   ]
  },
  {
   "cell_type": "markdown",
   "metadata": {},
   "source": [
    "Testirajmo sada naš sistem za preporuku."
   ]
  },
  {
   "cell_type": "code",
   "execution_count": 22,
   "metadata": {},
   "outputs": [
    {
     "data": {
      "text/html": [
       "<div>\n",
       "<style scoped>\n",
       "    .dataframe tbody tr th:only-of-type {\n",
       "        vertical-align: middle;\n",
       "    }\n",
       "\n",
       "    .dataframe tbody tr th {\n",
       "        vertical-align: top;\n",
       "    }\n",
       "\n",
       "    .dataframe thead th {\n",
       "        text-align: right;\n",
       "    }\n",
       "</style>\n",
       "<table border=\"1\" class=\"dataframe\">\n",
       "  <thead>\n",
       "    <tr style=\"text-align: right;\">\n",
       "      <th></th>\n",
       "      <th>title</th>\n",
       "    </tr>\n",
       "  </thead>\n",
       "  <tbody>\n",
       "    <tr>\n",
       "      <th>7420</th>\n",
       "      <td>The Dark Knight Rises</td>\n",
       "    </tr>\n",
       "    <tr>\n",
       "      <th>256</th>\n",
       "      <td>Batman Returns</td>\n",
       "    </tr>\n",
       "    <tr>\n",
       "      <th>8469</th>\n",
       "      <td>Batman: The Dark Knight Returns, Part 2</td>\n",
       "    </tr>\n",
       "    <tr>\n",
       "      <th>283</th>\n",
       "      <td>Batman Forever</td>\n",
       "    </tr>\n",
       "    <tr>\n",
       "      <th>6902</th>\n",
       "      <td>Batman: Under the Red Hood</td>\n",
       "    </tr>\n",
       "  </tbody>\n",
       "</table>\n",
       "</div>"
      ],
      "text/plain": [
       "                                        title\n",
       "7420                    The Dark Knight Rises\n",
       "256                            Batman Returns\n",
       "8469  Batman: The Dark Knight Returns, Part 2\n",
       "283                            Batman Forever\n",
       "6902               Batman: Under the Red Hood"
      ]
     },
     "execution_count": 22,
     "metadata": {},
     "output_type": "execute_result"
    }
   ],
   "source": [
    "recommend('The Dark Knight',cos_sim1).head(5)"
   ]
  },
  {
   "cell_type": "code",
   "execution_count": 23,
   "metadata": {},
   "outputs": [
    {
     "data": {
      "text/html": [
       "<div>\n",
       "<style scoped>\n",
       "    .dataframe tbody tr th:only-of-type {\n",
       "        vertical-align: middle;\n",
       "    }\n",
       "\n",
       "    .dataframe tbody tr th {\n",
       "        vertical-align: top;\n",
       "    }\n",
       "\n",
       "    .dataframe thead th {\n",
       "        text-align: right;\n",
       "    }\n",
       "</style>\n",
       "<table border=\"1\" class=\"dataframe\">\n",
       "  <thead>\n",
       "    <tr style=\"text-align: right;\">\n",
       "      <th></th>\n",
       "      <th>title</th>\n",
       "    </tr>\n",
       "  </thead>\n",
       "  <tbody>\n",
       "    <tr>\n",
       "      <th>3444</th>\n",
       "      <td>Suburban Commando</td>\n",
       "    </tr>\n",
       "    <tr>\n",
       "      <th>7903</th>\n",
       "      <td>Prometheus</td>\n",
       "    </tr>\n",
       "    <tr>\n",
       "      <th>1135</th>\n",
       "      <td>Stargate</td>\n",
       "    </tr>\n",
       "    <tr>\n",
       "      <th>370</th>\n",
       "      <td>Starship Troopers</td>\n",
       "    </tr>\n",
       "    <tr>\n",
       "      <th>534</th>\n",
       "      <td>Gattaca</td>\n",
       "    </tr>\n",
       "  </tbody>\n",
       "</table>\n",
       "</div>"
      ],
      "text/plain": [
       "                  title\n",
       "3444  Suburban Commando\n",
       "7903         Prometheus\n",
       "1135           Stargate\n",
       "370   Starship Troopers\n",
       "534             Gattaca"
      ]
     },
     "execution_count": 23,
     "metadata": {},
     "output_type": "execute_result"
    }
   ],
   "source": [
    "recommend('Interstellar', cos_sim1).head(5)"
   ]
  },
  {
   "cell_type": "markdown",
   "metadata": {},
   "source": [
    "## Sistem za preporuku zasnovan na imenima glumaca, režisera i ključnim rečima\n",
    "Pravimo sistem za preporuku koristeći informacije iz datoteka **credits.csv** i **keywords.csv**, preciznije imena glumaca (atribut *overview*), režisera (atribut *tagline*) i ključne reči (atribut *keywords*). Najpre učitajmo i pripremimo neophodne podatke."
   ]
  },
  {
   "cell_type": "code",
   "execution_count": 24,
   "metadata": {},
   "outputs": [
    {
     "name": "stdout",
     "output_type": "stream",
     "text": [
      "<class 'pandas.core.frame.DataFrame'>\n",
      "RangeIndex: 45476 entries, 0 to 45475\n",
      "Data columns (total 3 columns):\n",
      "cast    45476 non-null object\n",
      "crew    45476 non-null object\n",
      "id      45476 non-null int64\n",
      "dtypes: int64(1), object(2)\n",
      "memory usage: 1.0+ MB\n",
      "None\n"
     ]
    }
   ],
   "source": [
    "credits = pd.read_csv('the-movies-dataset/credits.csv')\n",
    "print(credits.info())"
   ]
  },
  {
   "cell_type": "code",
   "execution_count": 25,
   "metadata": {},
   "outputs": [
    {
     "name": "stdout",
     "output_type": "stream",
     "text": [
      "<class 'pandas.core.frame.DataFrame'>\n",
      "RangeIndex: 46419 entries, 0 to 46418\n",
      "Data columns (total 2 columns):\n",
      "id          46419 non-null int64\n",
      "keywords    46419 non-null object\n",
      "dtypes: int64(1), object(1)\n",
      "memory usage: 725.4+ KB\n",
      "None\n"
     ]
    }
   ],
   "source": [
    "keywords = pd.read_csv('the-movies-dataset//keywords.csv')\n",
    "print(keywords.info())"
   ]
  },
  {
   "cell_type": "markdown",
   "metadata": {},
   "source": [
    "Najpre eliminišemo duplirane unose iz tabela *keywords* i *credits*. Zatim spajamo tabele *movies*, *keywords* i *credits* u jednu tabelu, na osnovu atributa *id*. Zatim kao u prethodnom delu, redukujemo tabelu *movies* na *movies_small*."
   ]
  },
  {
   "cell_type": "code",
   "execution_count": 26,
   "metadata": {},
   "outputs": [
    {
     "name": "stdout",
     "output_type": "stream",
     "text": [
      "(45476, 3)\n",
      "(45439, 3)\n"
     ]
    }
   ],
   "source": [
    "print(credits.shape)\n",
    "credits = credits.drop_duplicates()\n",
    "print(credits.shape)"
   ]
  },
  {
   "cell_type": "code",
   "execution_count": 27,
   "metadata": {},
   "outputs": [
    {
     "name": "stdout",
     "output_type": "stream",
     "text": [
      "(46419, 2)\n",
      "(45432, 2)\n"
     ]
    }
   ],
   "source": [
    "print(keywords.shape)\n",
    "keywords = keywords.drop_duplicates()\n",
    "print(keywords.shape)"
   ]
  },
  {
   "cell_type": "code",
   "execution_count": 28,
   "metadata": {},
   "outputs": [
    {
     "name": "stdout",
     "output_type": "stream",
     "text": [
      "(9082, 7)\n"
     ]
    }
   ],
   "source": [
    "print(movies_small.shape)"
   ]
  },
  {
   "cell_type": "code",
   "execution_count": 29,
   "metadata": {},
   "outputs": [
    {
     "data": {
      "text/plain": [
       "(9086, 10)"
      ]
     },
     "execution_count": 29,
     "metadata": {},
     "output_type": "execute_result"
    }
   ],
   "source": [
    "movies_small_1 = movies_small.merge(credits, on = 'id')\n",
    "movies_small_1 = movies_small_1.merge(keywords, on = 'id')\n",
    "movies_small_1.shape"
   ]
  },
  {
   "cell_type": "code",
   "execution_count": 30,
   "metadata": {},
   "outputs": [
    {
     "data": {
      "text/plain": [
       "(9082,)"
      ]
     },
     "execution_count": 30,
     "metadata": {},
     "output_type": "execute_result"
    }
   ],
   "source": [
    "movies_small_1['id'].unique().shape"
   ]
  },
  {
   "cell_type": "markdown",
   "metadata": {},
   "source": [
    "Opet imamo više unosa za jedan isti film. Problem je u ponovljenim unosima iz tabele *credits*. Hoćemo to da eliminišemo."
   ]
  },
  {
   "cell_type": "code",
   "execution_count": 31,
   "metadata": {},
   "outputs": [
    {
     "data": {
      "text/html": [
       "<div>\n",
       "<style scoped>\n",
       "    .dataframe tbody tr th:only-of-type {\n",
       "        vertical-align: middle;\n",
       "    }\n",
       "\n",
       "    .dataframe tbody tr th {\n",
       "        vertical-align: top;\n",
       "    }\n",
       "\n",
       "    .dataframe thead th {\n",
       "        text-align: right;\n",
       "    }\n",
       "</style>\n",
       "<table border=\"1\" class=\"dataframe\">\n",
       "  <thead>\n",
       "    <tr style=\"text-align: right;\">\n",
       "      <th></th>\n",
       "      <th>index</th>\n",
       "      <th>id</th>\n",
       "      <th>imdb_id</th>\n",
       "      <th>overview</th>\n",
       "      <th>tagline</th>\n",
       "      <th>title</th>\n",
       "      <th>description</th>\n",
       "      <th>cast</th>\n",
       "      <th>crew</th>\n",
       "      <th>keywords</th>\n",
       "    </tr>\n",
       "  </thead>\n",
       "  <tbody>\n",
       "    <tr>\n",
       "      <th>1526</th>\n",
       "      <td>5865</td>\n",
       "      <td>4912</td>\n",
       "      <td>tt0270288</td>\n",
       "      <td>Television made him famous, but his biggest hi...</td>\n",
       "      <td>Some things are better left top secret.</td>\n",
       "      <td>Confessions of a Dangerous Mind</td>\n",
       "      <td>Television made him famous, but his biggest hi...</td>\n",
       "      <td>[{'cast_id': 15, 'character': 'Chuck Barris', ...</td>\n",
       "      <td>[{'credit_id': '52fe43e2c3a36847f80760a9', 'de...</td>\n",
       "      <td>[{'id': 4688, 'name': 'microfilm'}, {'id': 556...</td>\n",
       "    </tr>\n",
       "    <tr>\n",
       "      <th>7884</th>\n",
       "      <td>9576</td>\n",
       "      <td>69234</td>\n",
       "      <td>tt0100361</td>\n",
       "      <td>Count de Chagnie has discovered Christine's si...</td>\n",
       "      <td></td>\n",
       "      <td>The Phantom of the Opera</td>\n",
       "      <td>Count de Chagnie has discovered Christine's si...</td>\n",
       "      <td>[{'cast_id': 1, 'character': 'Gerard Carriere'...</td>\n",
       "      <td>[{'credit_id': '52fe47bfc3a368484e0d77bf', 'de...</td>\n",
       "      <td>[{'id': 2199, 'name': 'opera'}, {'id': 2546, '...</td>\n",
       "    </tr>\n",
       "    <tr>\n",
       "      <th>8311</th>\n",
       "      <td>4356</td>\n",
       "      <td>110428</td>\n",
       "      <td>tt2018086</td>\n",
       "      <td>Winter, 1915. Confined by her family to an asy...</td>\n",
       "      <td></td>\n",
       "      <td>Camille Claudel 1915</td>\n",
       "      <td>Winter, 1915. Confined by her family to an asy...</td>\n",
       "      <td>[{'cast_id': 3, 'character': 'Camille Claudel'...</td>\n",
       "      <td>[{'credit_id': '577ed5389251416976004432', 'de...</td>\n",
       "      <td>[{'id': 254, 'name': 'france'}, {'id': 745, 'n...</td>\n",
       "    </tr>\n",
       "    <tr>\n",
       "      <th>8427</th>\n",
       "      <td>838</td>\n",
       "      <td>132641</td>\n",
       "      <td>tt0046468</td>\n",
       "      <td>Ten years into a marriage, the wife is disappo...</td>\n",
       "      <td></td>\n",
       "      <td>Wife</td>\n",
       "      <td>Ten years into a marriage, the wife is disappo...</td>\n",
       "      <td>[{'cast_id': 4, 'character': 'Mihoko Nakagawa'...</td>\n",
       "      <td>[{'credit_id': '56365ed9925141285701b06e', 'de...</td>\n",
       "      <td>[{'id': 818, 'name': 'based on novel'}, {'id':...</td>\n",
       "    </tr>\n",
       "  </tbody>\n",
       "</table>\n",
       "</div>"
      ],
      "text/plain": [
       "      index      id    imdb_id  \\\n",
       "1526   5865    4912  tt0270288   \n",
       "7884   9576   69234  tt0100361   \n",
       "8311   4356  110428  tt2018086   \n",
       "8427    838  132641  tt0046468   \n",
       "\n",
       "                                               overview  \\\n",
       "1526  Television made him famous, but his biggest hi...   \n",
       "7884  Count de Chagnie has discovered Christine's si...   \n",
       "8311  Winter, 1915. Confined by her family to an asy...   \n",
       "8427  Ten years into a marriage, the wife is disappo...   \n",
       "\n",
       "                                      tagline  \\\n",
       "1526  Some things are better left top secret.   \n",
       "7884                                            \n",
       "8311                                            \n",
       "8427                                            \n",
       "\n",
       "                                title  \\\n",
       "1526  Confessions of a Dangerous Mind   \n",
       "7884         The Phantom of the Opera   \n",
       "8311             Camille Claudel 1915   \n",
       "8427                             Wife   \n",
       "\n",
       "                                            description  \\\n",
       "1526  Television made him famous, but his biggest hi...   \n",
       "7884  Count de Chagnie has discovered Christine's si...   \n",
       "8311  Winter, 1915. Confined by her family to an asy...   \n",
       "8427  Ten years into a marriage, the wife is disappo...   \n",
       "\n",
       "                                                   cast  \\\n",
       "1526  [{'cast_id': 15, 'character': 'Chuck Barris', ...   \n",
       "7884  [{'cast_id': 1, 'character': 'Gerard Carriere'...   \n",
       "8311  [{'cast_id': 3, 'character': 'Camille Claudel'...   \n",
       "8427  [{'cast_id': 4, 'character': 'Mihoko Nakagawa'...   \n",
       "\n",
       "                                                   crew  \\\n",
       "1526  [{'credit_id': '52fe43e2c3a36847f80760a9', 'de...   \n",
       "7884  [{'credit_id': '52fe47bfc3a368484e0d77bf', 'de...   \n",
       "8311  [{'credit_id': '577ed5389251416976004432', 'de...   \n",
       "8427  [{'credit_id': '56365ed9925141285701b06e', 'de...   \n",
       "\n",
       "                                               keywords  \n",
       "1526  [{'id': 4688, 'name': 'microfilm'}, {'id': 556...  \n",
       "7884  [{'id': 2199, 'name': 'opera'}, {'id': 2546, '...  \n",
       "8311  [{'id': 254, 'name': 'france'}, {'id': 745, 'n...  \n",
       "8427  [{'id': 818, 'name': 'based on novel'}, {'id':...  "
      ]
     },
     "execution_count": 31,
     "metadata": {},
     "output_type": "execute_result"
    }
   ],
   "source": [
    "movies_small_1[movies_small_1.duplicated(subset = 'id')]"
   ]
  },
  {
   "cell_type": "code",
   "execution_count": 32,
   "metadata": {},
   "outputs": [
    {
     "data": {
      "text/plain": [
       "(9082, 10)"
      ]
     },
     "execution_count": 32,
     "metadata": {},
     "output_type": "execute_result"
    }
   ],
   "source": [
    "movies_small_1 = movies_small_1.drop([695, 3532, 4420, 5996])\n",
    "movies_small_1.shape"
   ]
  },
  {
   "cell_type": "markdown",
   "metadata": {},
   "source": [
    "Sada imamo sve neophodne informacije u jednoj tabeli i tačno po jedan unos za svaki film. Vršimo dalje preprocesiranje vodeći se intuicijom.\n",
    "\n",
    "Najpre koristimo funkciju **literal_eval()** da bismo od stringa dobili listu."
   ]
  },
  {
   "cell_type": "code",
   "execution_count": 33,
   "metadata": {},
   "outputs": [
    {
     "name": "stdout",
     "output_type": "stream",
     "text": [
      "<class 'str'>\n",
      "<class 'list'>\n"
     ]
    }
   ],
   "source": [
    "print(type(movies_small_1['cast'][0]))\n",
    "movies_small_1['cast'] = movies_small_1['cast'].apply(literal_eval) \n",
    "print(type(movies_small_1['cast'][0]))"
   ]
  },
  {
   "cell_type": "code",
   "execution_count": 34,
   "metadata": {},
   "outputs": [
    {
     "name": "stdout",
     "output_type": "stream",
     "text": [
      "<class 'list'>\n",
      "<class 'list'>\n"
     ]
    }
   ],
   "source": [
    "print(type(movies_small_1['cast'][0]))\n",
    "movies_small_1['crew'] = movies_small_1['crew'].apply(literal_eval)\n",
    "print(type(movies_small_1['crew'][0]))"
   ]
  },
  {
   "cell_type": "code",
   "execution_count": 35,
   "metadata": {},
   "outputs": [
    {
     "name": "stdout",
     "output_type": "stream",
     "text": [
      "<class 'str'>\n",
      "<class 'list'>\n"
     ]
    }
   ],
   "source": [
    "print(type(movies_small_1['keywords'][0]))\n",
    "movies_small_1['keywords'] = movies_small_1['keywords'].apply(literal_eval)\n",
    "print(type(movies_small_1['keywords'][0]))"
   ]
  },
  {
   "cell_type": "markdown",
   "metadata": {},
   "source": [
    "Iz informacija vezanih za filmsku ekipu (atribut *crew*), izdvajamo samo ime režisera kao relevantni atribut."
   ]
  },
  {
   "cell_type": "code",
   "execution_count": 36,
   "metadata": {},
   "outputs": [],
   "source": [
    "def get_director(x):\n",
    "    for i in x:\n",
    "        if i['job'] == 'Director':\n",
    "            return i['name']\n",
    "    return np.nan\n",
    "\n",
    "movies_small_1['director'] = movies_small_1['crew'].apply(get_director)"
   ]
  },
  {
   "cell_type": "markdown",
   "metadata": {},
   "source": [
    "Iz liste uloga (atribut *cast*), prirodno je izdvojiti samo glavne uloge jer obično sporedne ne utiču na mišljenje ljudi o filmu. Izdvajamo imena prva 3 glumaca koja se navode u ulogama. "
   ]
  },
  {
   "cell_type": "code",
   "execution_count": 37,
   "metadata": {},
   "outputs": [],
   "source": [
    "movies_small_1['cast'] = movies_small_1['cast'].apply(lambda x: [i['name'] for i in x] if isinstance(x, list) else [])\n",
    "movies_small_1['cast'] = movies_small_1['cast'].apply(lambda x: x[:3] if len(x) >=3 else x)"
   ]
  },
  {
   "cell_type": "markdown",
   "metadata": {},
   "source": [
    "Iz informacija o ključnim rečima (atribut *keywords*) izdvajamo samo ključ *name*."
   ]
  },
  {
   "cell_type": "code",
   "execution_count": 38,
   "metadata": {},
   "outputs": [],
   "source": [
    "movies_small_1['keywords'] = movies_small_1['keywords'].apply(lambda x: [i['name'] for i in x] if isinstance(x, list) else [])"
   ]
  },
  {
   "cell_type": "markdown",
   "metadata": {},
   "source": [
    "Sada ćemo sva slova prebaciti u mala i eliminisati razmake između imena i prezimena da bismo izbegli konfuziju kada dve različite osobe imaju isto ime."
   ]
  },
  {
   "cell_type": "code",
   "execution_count": 39,
   "metadata": {},
   "outputs": [],
   "source": [
    "movies_small_1['cast'] = movies_small_1['cast'].apply(lambda x: [str.lower(i.replace(\" \", \"\")) for i in x])\n",
    "movies_small_1['director'] = movies_small_1['director'].astype('str').apply(lambda x: str.lower(x.replace(\" \", \"\")))\n",
    "movies_small_1['director'] = movies_small_1['director'].apply(lambda x: [x])"
   ]
  },
  {
   "cell_type": "markdown",
   "metadata": {},
   "source": [
    "Još malo se pozabavimo ključnim rečima. Najpre ćemo izračunati učestalost svake ključne reči."
   ]
  },
  {
   "cell_type": "code",
   "execution_count": 40,
   "metadata": {},
   "outputs": [
    {
     "data": {
      "text/plain": [
       "0                    underdog\n",
       "0                      prison\n",
       "0              factory worker\n",
       "0                    prisoner\n",
       "0                    helsinki\n",
       "0            independent film\n",
       "0             falling in love\n",
       "1                       hotel\n",
       "1              new year's eve\n",
       "1                       witch\n",
       "1                         bet\n",
       "1                  hotel room\n",
       "1                       sperm\n",
       "1                 los angeles\n",
       "1                     hoodlum\n",
       "1              woman director\n",
       "1                episode film\n",
       "2                     chicago\n",
       "2                 drug dealer\n",
       "2                boxing match\n",
       "2                      escape\n",
       "2                   one night\n",
       "3                     android\n",
       "3                      galaxy\n",
       "3                      hermit\n",
       "3                  death star\n",
       "3                  lightsaber\n",
       "3                        jedi\n",
       "3              rescue mission\n",
       "3                      empire\n",
       "                ...          \n",
       "9074            bow and arrow\n",
       "9074                     deaf\n",
       "9074                   iphone\n",
       "9075                 dystopia\n",
       "9075                cyberpunk\n",
       "9075                    robot\n",
       "9076                 squirrel\n",
       "9076                  mammoth\n",
       "9076                  ice age\n",
       "9076    prehistoric adventure\n",
       "9076        prehistoric times\n",
       "9077                    fight\n",
       "9077                      cgi\n",
       "9077      based on video game\n",
       "9077                  warrior\n",
       "9077                    anime\n",
       "9078             shark attack\n",
       "9078                   sequel\n",
       "9078                    farce\n",
       "9078                las vegas\n",
       "9078         creature feature\n",
       "9079                    music\n",
       "9079              documentary\n",
       "9080                bollywood\n",
       "9081                     bird\n",
       "9081                     fear\n",
       "9081                    short\n",
       "9082        experimental film\n",
       "9082                 nonsense\n",
       "9083                bollywood\n",
       "Name: keyword, Length: 63483, dtype: object"
      ]
     },
     "execution_count": 40,
     "metadata": {},
     "output_type": "execute_result"
    }
   ],
   "source": [
    "s = movies_small_1.apply(lambda x: pd.Series(x['keywords']),axis=1).stack().reset_index(level=1, drop=True)\n",
    "s.name = 'keyword'\n",
    "s"
   ]
  },
  {
   "cell_type": "code",
   "execution_count": 41,
   "metadata": {},
   "outputs": [
    {
     "data": {
      "text/plain": [
       "independent film        603\n",
       "woman director          541\n",
       "murder                  397\n",
       "duringcreditsstinger    327\n",
       "based on novel          310\n",
       "Name: keyword, dtype: int64"
      ]
     },
     "execution_count": 41,
     "metadata": {},
     "output_type": "execute_result"
    }
   ],
   "source": [
    "s = s.value_counts()\n",
    "s[:5]"
   ]
  },
  {
   "cell_type": "markdown",
   "metadata": {},
   "source": [
    "Dakle, ključne reči se pojavljuju u frekvencijama između 1 i 606. Ključne reči koje se pojavljuju samo jednom nam nisu od nekog značaja. Zato ćemo takve eliminisati, funkcijom **filter_keywords**. Takođe, eliminišemo razmake."
   ]
  },
  {
   "cell_type": "code",
   "execution_count": 42,
   "metadata": {},
   "outputs": [],
   "source": [
    "s = s[s > 1]\n",
    "def filter_keywords(kws):\n",
    "    words = []\n",
    "    for kw in kws:\n",
    "        if kw in s:\n",
    "            words.append(kw)\n",
    "            \n",
    "    return words"
   ]
  },
  {
   "cell_type": "code",
   "execution_count": 43,
   "metadata": {},
   "outputs": [],
   "source": [
    "movies_small_1['keywords'] = movies_small_1['keywords'].apply(filter_keywords)\n",
    "movies_small_1['keywords'] = movies_small_1['keywords'].apply(lambda x: [str.lower(i.replace(\" \", \"\")) for i in x])"
   ]
  },
  {
   "cell_type": "code",
   "execution_count": 44,
   "metadata": {},
   "outputs": [
    {
     "data": {
      "text/html": [
       "<div>\n",
       "<style scoped>\n",
       "    .dataframe tbody tr th:only-of-type {\n",
       "        vertical-align: middle;\n",
       "    }\n",
       "\n",
       "    .dataframe tbody tr th {\n",
       "        vertical-align: top;\n",
       "    }\n",
       "\n",
       "    .dataframe thead th {\n",
       "        text-align: right;\n",
       "    }\n",
       "</style>\n",
       "<table border=\"1\" class=\"dataframe\">\n",
       "  <thead>\n",
       "    <tr style=\"text-align: right;\">\n",
       "      <th></th>\n",
       "      <th>index</th>\n",
       "      <th>id</th>\n",
       "      <th>imdb_id</th>\n",
       "      <th>overview</th>\n",
       "      <th>tagline</th>\n",
       "      <th>title</th>\n",
       "      <th>description</th>\n",
       "      <th>cast</th>\n",
       "      <th>crew</th>\n",
       "      <th>keywords</th>\n",
       "      <th>director</th>\n",
       "    </tr>\n",
       "  </thead>\n",
       "  <tbody>\n",
       "    <tr>\n",
       "      <th>0</th>\n",
       "      <td>4342</td>\n",
       "      <td>2</td>\n",
       "      <td>tt0094675</td>\n",
       "      <td>Taisto Kasurinen is a Finnish coal miner whose...</td>\n",
       "      <td></td>\n",
       "      <td>Ariel</td>\n",
       "      <td>Taisto Kasurinen is a Finnish coal miner whose...</td>\n",
       "      <td>[turopajala, susannahaavisto, mattipellonpää]</td>\n",
       "      <td>[{'credit_id': '52fe420dc3a36847f800001f', 'de...</td>\n",
       "      <td>[underdog, prison, factoryworker, prisoner, he...</td>\n",
       "      <td>[akikaurismäki]</td>\n",
       "    </tr>\n",
       "    <tr>\n",
       "      <th>1</th>\n",
       "      <td>17</td>\n",
       "      <td>5</td>\n",
       "      <td>tt0113101</td>\n",
       "      <td>It's Ted the Bellhop's first night on the job....</td>\n",
       "      <td>Twelve outrageous guests. Four scandalous requ...</td>\n",
       "      <td>Four Rooms</td>\n",
       "      <td>It's Ted the Bellhop's first night on the job....</td>\n",
       "      <td>[timroth, antoniobanderas, jenniferbeals]</td>\n",
       "      <td>[{'credit_id': '52fe420dc3a36847f800011b', 'de...</td>\n",
       "      <td>[hotel, newyear'seve, witch, bet, hotelroom, s...</td>\n",
       "      <td>[allisonanders]</td>\n",
       "    </tr>\n",
       "  </tbody>\n",
       "</table>\n",
       "</div>"
      ],
      "text/plain": [
       "   index  id    imdb_id                                           overview  \\\n",
       "0   4342   2  tt0094675  Taisto Kasurinen is a Finnish coal miner whose...   \n",
       "1     17   5  tt0113101  It's Ted the Bellhop's first night on the job....   \n",
       "\n",
       "                                             tagline       title  \\\n",
       "0                                                          Ariel   \n",
       "1  Twelve outrageous guests. Four scandalous requ...  Four Rooms   \n",
       "\n",
       "                                         description  \\\n",
       "0  Taisto Kasurinen is a Finnish coal miner whose...   \n",
       "1  It's Ted the Bellhop's first night on the job....   \n",
       "\n",
       "                                            cast  \\\n",
       "0  [turopajala, susannahaavisto, mattipellonpää]   \n",
       "1      [timroth, antoniobanderas, jenniferbeals]   \n",
       "\n",
       "                                                crew  \\\n",
       "0  [{'credit_id': '52fe420dc3a36847f800001f', 'de...   \n",
       "1  [{'credit_id': '52fe420dc3a36847f800011b', 'de...   \n",
       "\n",
       "                                            keywords         director  \n",
       "0  [underdog, prison, factoryworker, prisoner, he...  [akikaurismäki]  \n",
       "1  [hotel, newyear'seve, witch, bet, hotelroom, s...  [allisonanders]  "
      ]
     },
     "execution_count": 44,
     "metadata": {},
     "output_type": "execute_result"
    }
   ],
   "source": [
    "movies_small_1.head(2)"
   ]
  },
  {
   "cell_type": "markdown",
   "metadata": {},
   "source": [
    "Pravimo novu kolonu (atribut) *key_cast_dir* koja će sadržati sve izdvojene informacije."
   ]
  },
  {
   "cell_type": "code",
   "execution_count": 45,
   "metadata": {},
   "outputs": [
    {
     "data": {
      "text/plain": [
       "'underdog prison factoryworker prisoner helsinki independentfilm fallinginlove turopajala susannahaavisto mattipellonpää akikaurismäki'"
      ]
     },
     "execution_count": 45,
     "metadata": {},
     "output_type": "execute_result"
    }
   ],
   "source": [
    "movies_small_1['key_cast_dir'] = movies_small_1['keywords'] + movies_small_1['cast'] + movies_small_1['director']\n",
    "movies_small_1['key_cast_dir'] = movies_small_1['key_cast_dir'].apply(lambda x: ' '.join(x))\n",
    "movies_small_1['key_cast_dir'][0]"
   ]
  },
  {
   "cell_type": "markdown",
   "metadata": {},
   "source": [
    "Izgradnja samog sistema sada ide potpuno analogno prethodnom: tf-idf, pravljenje matrice sličnosti, funkcija **recommend**..."
   ]
  },
  {
   "cell_type": "code",
   "execution_count": 46,
   "metadata": {},
   "outputs": [
    {
     "data": {
      "text/plain": [
       "(9082, 20595)"
      ]
     },
     "execution_count": 46,
     "metadata": {},
     "output_type": "execute_result"
    }
   ],
   "source": [
    "tf = TfidfVectorizer(analyzer='word',stop_words='english')\n",
    "tfidf_matrix = tf.fit_transform(movies_small_1['key_cast_dir'])\n",
    "tfidf_matrix.shape"
   ]
  },
  {
   "cell_type": "code",
   "execution_count": 47,
   "metadata": {},
   "outputs": [
    {
     "name": "stdout",
     "output_type": "stream",
     "text": [
      "(9082, 9082)\n"
     ]
    }
   ],
   "source": [
    "cos_sim2 = cosine_similarity(tfidf_matrix) + epsilon\n",
    "print(cos_sim2.shape)"
   ]
  },
  {
   "cell_type": "code",
   "execution_count": 48,
   "metadata": {},
   "outputs": [],
   "source": [
    "movies_small_1 = movies_small_1.reset_index()\n",
    "titles = movies_small_1['title']\n",
    "indices = pd.Series(movies_small_1.index,index = movies_small_1['title'])"
   ]
  },
  {
   "cell_type": "code",
   "execution_count": 49,
   "metadata": {},
   "outputs": [
    {
     "data": {
      "text/html": [
       "<div>\n",
       "<style scoped>\n",
       "    .dataframe tbody tr th:only-of-type {\n",
       "        vertical-align: middle;\n",
       "    }\n",
       "\n",
       "    .dataframe tbody tr th {\n",
       "        vertical-align: top;\n",
       "    }\n",
       "\n",
       "    .dataframe thead th {\n",
       "        text-align: right;\n",
       "    }\n",
       "</style>\n",
       "<table border=\"1\" class=\"dataframe\">\n",
       "  <thead>\n",
       "    <tr style=\"text-align: right;\">\n",
       "      <th></th>\n",
       "      <th>title</th>\n",
       "    </tr>\n",
       "  </thead>\n",
       "  <tbody>\n",
       "    <tr>\n",
       "      <th>7417</th>\n",
       "      <td>The Dark Knight Rises</td>\n",
       "    </tr>\n",
       "    <tr>\n",
       "      <th>194</th>\n",
       "      <td>Batman Begins</td>\n",
       "    </tr>\n",
       "    <tr>\n",
       "      <th>256</th>\n",
       "      <td>Batman Returns</td>\n",
       "    </tr>\n",
       "    <tr>\n",
       "      <th>6899</th>\n",
       "      <td>Batman: Under the Red Hood</td>\n",
       "    </tr>\n",
       "    <tr>\n",
       "      <th>284</th>\n",
       "      <td>Batman &amp; Robin</td>\n",
       "    </tr>\n",
       "  </tbody>\n",
       "</table>\n",
       "</div>"
      ],
      "text/plain": [
       "                           title\n",
       "7417       The Dark Knight Rises\n",
       "194                Batman Begins\n",
       "256               Batman Returns\n",
       "6899  Batman: Under the Red Hood\n",
       "284               Batman & Robin"
      ]
     },
     "execution_count": 49,
     "metadata": {},
     "output_type": "execute_result"
    }
   ],
   "source": [
    "recommend('The Dark Knight',cos_sim2).head(5)"
   ]
  },
  {
   "cell_type": "code",
   "execution_count": 50,
   "metadata": {},
   "outputs": [
    {
     "data": {
      "text/html": [
       "<div>\n",
       "<style scoped>\n",
       "    .dataframe tbody tr th:only-of-type {\n",
       "        vertical-align: middle;\n",
       "    }\n",
       "\n",
       "    .dataframe tbody tr th {\n",
       "        vertical-align: top;\n",
       "    }\n",
       "\n",
       "    .dataframe thead th {\n",
       "        text-align: right;\n",
       "    }\n",
       "</style>\n",
       "<table border=\"1\" class=\"dataframe\">\n",
       "  <thead>\n",
       "    <tr style=\"text-align: right;\">\n",
       "      <th></th>\n",
       "      <th>title</th>\n",
       "    </tr>\n",
       "  </thead>\n",
       "  <tbody>\n",
       "    <tr>\n",
       "      <th>3886</th>\n",
       "      <td>Memphis Belle</td>\n",
       "    </tr>\n",
       "    <tr>\n",
       "      <th>3143</th>\n",
       "      <td>Hoodwinked!</td>\n",
       "    </tr>\n",
       "    <tr>\n",
       "      <th>5661</th>\n",
       "      <td>Drowning Mona</td>\n",
       "    </tr>\n",
       "    <tr>\n",
       "      <th>6204</th>\n",
       "      <td>Moonlight Mile</td>\n",
       "    </tr>\n",
       "    <tr>\n",
       "      <th>8637</th>\n",
       "      <td>At Middleton</td>\n",
       "    </tr>\n",
       "  </tbody>\n",
       "</table>\n",
       "</div>"
      ],
      "text/plain": [
       "               title\n",
       "3886   Memphis Belle\n",
       "3143     Hoodwinked!\n",
       "5661   Drowning Mona\n",
       "6204  Moonlight Mile\n",
       "8637    At Middleton"
      ]
     },
     "execution_count": 50,
     "metadata": {},
     "output_type": "execute_result"
    }
   ],
   "source": [
    "recommend('Source Code',cos_sim2).head(5)"
   ]
  },
  {
   "cell_type": "markdown",
   "metadata": {},
   "source": [
    "## Predviđanje ocene\n",
    "Sada hoćemo da iskoristimo generisane matrice sličnosti da predvidimo korisnikovu ocenu za neki film. Najpre učitavamo datoteku **ratings_small.csv** i delimo podatke u trening i test skup. Ove podatke predstavljamo kao matricu u kojoj jedna dimenzija označava korisnika a druga film. Matrica je dosta retka jer je većina korisnika ocenila samo mali udeo filmova. "
   ]
  },
  {
   "cell_type": "code",
   "execution_count": 51,
   "metadata": {},
   "outputs": [
    {
     "data": {
      "text/html": [
       "<div>\n",
       "<style scoped>\n",
       "    .dataframe tbody tr th:only-of-type {\n",
       "        vertical-align: middle;\n",
       "    }\n",
       "\n",
       "    .dataframe tbody tr th {\n",
       "        vertical-align: top;\n",
       "    }\n",
       "\n",
       "    .dataframe thead th {\n",
       "        text-align: right;\n",
       "    }\n",
       "</style>\n",
       "<table border=\"1\" class=\"dataframe\">\n",
       "  <thead>\n",
       "    <tr style=\"text-align: right;\">\n",
       "      <th></th>\n",
       "      <th>userId</th>\n",
       "      <th>movieId</th>\n",
       "      <th>rating</th>\n",
       "      <th>timestamp</th>\n",
       "    </tr>\n",
       "  </thead>\n",
       "  <tbody>\n",
       "    <tr>\n",
       "      <th>0</th>\n",
       "      <td>1</td>\n",
       "      <td>31</td>\n",
       "      <td>2.5</td>\n",
       "      <td>1260759144</td>\n",
       "    </tr>\n",
       "    <tr>\n",
       "      <th>1</th>\n",
       "      <td>1</td>\n",
       "      <td>1029</td>\n",
       "      <td>3.0</td>\n",
       "      <td>1260759179</td>\n",
       "    </tr>\n",
       "    <tr>\n",
       "      <th>2</th>\n",
       "      <td>1</td>\n",
       "      <td>1061</td>\n",
       "      <td>3.0</td>\n",
       "      <td>1260759182</td>\n",
       "    </tr>\n",
       "    <tr>\n",
       "      <th>3</th>\n",
       "      <td>1</td>\n",
       "      <td>1129</td>\n",
       "      <td>2.0</td>\n",
       "      <td>1260759185</td>\n",
       "    </tr>\n",
       "    <tr>\n",
       "      <th>4</th>\n",
       "      <td>1</td>\n",
       "      <td>1172</td>\n",
       "      <td>4.0</td>\n",
       "      <td>1260759205</td>\n",
       "    </tr>\n",
       "  </tbody>\n",
       "</table>\n",
       "</div>"
      ],
      "text/plain": [
       "   userId  movieId  rating   timestamp\n",
       "0       1       31     2.5  1260759144\n",
       "1       1     1029     3.0  1260759179\n",
       "2       1     1061     3.0  1260759182\n",
       "3       1     1129     2.0  1260759185\n",
       "4       1     1172     4.0  1260759205"
      ]
     },
     "execution_count": 51,
     "metadata": {},
     "output_type": "execute_result"
    }
   ],
   "source": [
    "ratings = pd.read_csv(\"the-movies-dataset/ratings_small.csv\")\n",
    "ratings.head()"
   ]
  },
  {
   "cell_type": "markdown",
   "metadata": {},
   "source": [
    "Najpre eliminišemo redove iz tabele *ratings* koji se odnose na film koji se ne nalazi u *links_small*. Zatim spajamo tabele *ratings* i *links_small* po atributu *movieId*."
   ]
  },
  {
   "cell_type": "code",
   "execution_count": 52,
   "metadata": {},
   "outputs": [
    {
     "name": "stdout",
     "output_type": "stream",
     "text": [
      "(100004, 4)\n",
      "(99810, 4)\n"
     ]
    }
   ],
   "source": [
    "print(ratings.shape)\n",
    "ratings = ratings[ratings['movieId'].isin(links_small['movieId'])]\n",
    "print(ratings.shape)"
   ]
  },
  {
   "cell_type": "code",
   "execution_count": 53,
   "metadata": {},
   "outputs": [
    {
     "data": {
      "text/plain": [
       "(99810, 6)"
      ]
     },
     "execution_count": 53,
     "metadata": {},
     "output_type": "execute_result"
    }
   ],
   "source": [
    "ratings = ratings.merge(links_small, on = 'movieId')\n",
    "ratings.shape"
   ]
  },
  {
   "cell_type": "markdown",
   "metadata": {},
   "source": [
    "Eliminišemo kolone iz tabele *ratings* koje nam neće trebati u daljoj analizi."
   ]
  },
  {
   "cell_type": "code",
   "execution_count": 54,
   "metadata": {},
   "outputs": [
    {
     "data": {
      "text/html": [
       "<div>\n",
       "<style scoped>\n",
       "    .dataframe tbody tr th:only-of-type {\n",
       "        vertical-align: middle;\n",
       "    }\n",
       "\n",
       "    .dataframe tbody tr th {\n",
       "        vertical-align: top;\n",
       "    }\n",
       "\n",
       "    .dataframe thead th {\n",
       "        text-align: right;\n",
       "    }\n",
       "</style>\n",
       "<table border=\"1\" class=\"dataframe\">\n",
       "  <thead>\n",
       "    <tr style=\"text-align: right;\">\n",
       "      <th></th>\n",
       "      <th>userId</th>\n",
       "      <th>rating</th>\n",
       "      <th>tmdbId</th>\n",
       "    </tr>\n",
       "  </thead>\n",
       "  <tbody>\n",
       "    <tr>\n",
       "      <th>0</th>\n",
       "      <td>1</td>\n",
       "      <td>2.5</td>\n",
       "      <td>9909</td>\n",
       "    </tr>\n",
       "    <tr>\n",
       "      <th>1</th>\n",
       "      <td>7</td>\n",
       "      <td>3.0</td>\n",
       "      <td>9909</td>\n",
       "    </tr>\n",
       "    <tr>\n",
       "      <th>2</th>\n",
       "      <td>31</td>\n",
       "      <td>4.0</td>\n",
       "      <td>9909</td>\n",
       "    </tr>\n",
       "    <tr>\n",
       "      <th>3</th>\n",
       "      <td>32</td>\n",
       "      <td>4.0</td>\n",
       "      <td>9909</td>\n",
       "    </tr>\n",
       "    <tr>\n",
       "      <th>4</th>\n",
       "      <td>36</td>\n",
       "      <td>3.0</td>\n",
       "      <td>9909</td>\n",
       "    </tr>\n",
       "  </tbody>\n",
       "</table>\n",
       "</div>"
      ],
      "text/plain": [
       "   userId  rating  tmdbId\n",
       "0       1     2.5    9909\n",
       "1       7     3.0    9909\n",
       "2      31     4.0    9909\n",
       "3      32     4.0    9909\n",
       "4      36     3.0    9909"
      ]
     },
     "execution_count": 54,
     "metadata": {},
     "output_type": "execute_result"
    }
   ],
   "source": [
    "ratings = ratings.drop(columns = ['movieId','timestamp','imdbId'])\n",
    "ratings.head(5)"
   ]
  },
  {
   "cell_type": "code",
   "execution_count": 55,
   "metadata": {},
   "outputs": [
    {
     "data": {
      "text/html": [
       "<div>\n",
       "<style scoped>\n",
       "    .dataframe tbody tr th:only-of-type {\n",
       "        vertical-align: middle;\n",
       "    }\n",
       "\n",
       "    .dataframe tbody tr th {\n",
       "        vertical-align: top;\n",
       "    }\n",
       "\n",
       "    .dataframe thead th {\n",
       "        text-align: right;\n",
       "    }\n",
       "</style>\n",
       "<table border=\"1\" class=\"dataframe\">\n",
       "  <thead>\n",
       "    <tr style=\"text-align: right;\">\n",
       "      <th></th>\n",
       "      <th>userId</th>\n",
       "      <th>rating</th>\n",
       "      <th>tmdbId</th>\n",
       "    </tr>\n",
       "  </thead>\n",
       "  <tbody>\n",
       "    <tr>\n",
       "      <th>87818</th>\n",
       "      <td>81</td>\n",
       "      <td>4.5</td>\n",
       "      <td>2</td>\n",
       "    </tr>\n",
       "    <tr>\n",
       "      <th>69950</th>\n",
       "      <td>154</td>\n",
       "      <td>5.0</td>\n",
       "      <td>5</td>\n",
       "    </tr>\n",
       "    <tr>\n",
       "      <th>69967</th>\n",
       "      <td>659</td>\n",
       "      <td>1.0</td>\n",
       "      <td>5</td>\n",
       "    </tr>\n",
       "    <tr>\n",
       "      <th>69966</th>\n",
       "      <td>655</td>\n",
       "      <td>4.0</td>\n",
       "      <td>5</td>\n",
       "    </tr>\n",
       "    <tr>\n",
       "      <th>69964</th>\n",
       "      <td>616</td>\n",
       "      <td>4.0</td>\n",
       "      <td>5</td>\n",
       "    </tr>\n",
       "  </tbody>\n",
       "</table>\n",
       "</div>"
      ],
      "text/plain": [
       "       userId  rating  tmdbId\n",
       "87818      81     4.5       2\n",
       "69950     154     5.0       5\n",
       "69967     659     1.0       5\n",
       "69966     655     4.0       5\n",
       "69964     616     4.0       5"
      ]
     },
     "execution_count": 55,
     "metadata": {},
     "output_type": "execute_result"
    }
   ],
   "source": [
    "ratings = ratings.sort_values(by = 'tmdbId')\n",
    "ratings.head()"
   ]
  },
  {
   "cell_type": "code",
   "execution_count": 57,
   "metadata": {},
   "outputs": [
    {
     "name": "stdout",
     "output_type": "stream",
     "text": [
      "Maksimalan id:  416437\n",
      "Broj razlicitih filmova:  9025\n"
     ]
    }
   ],
   "source": [
    "print('Maksimalan id: ',max(ratings.tmdbId))\n",
    "print('Broj razlicitih filmova: ', ratings.tmdbId.unique().shape[0])"
   ]
  },
  {
   "cell_type": "markdown",
   "metadata": {},
   "source": [
    "Iako ima 9,025 razlicitih filmova u trening skupu, pravimo matricu koja će imati onoliko kolona koliki je maksimalan *tmdbId*, što je 416,437. Jasno, neke kolone će biti nula kolone što znači da za taj film među podacima nema ni jedne ocene od strane korisnika. Razlog za ovo je što smo koristili podskup skupa filmova. Kako je u pitanju retka matrica, koristimo funkciju *dok_matrix* iz paketa **numpy.sparse**."
   ]
  },
  {
   "cell_type": "code",
   "execution_count": 58,
   "metadata": {},
   "outputs": [
    {
     "data": {
      "text/plain": [
       "(671, 416437)"
      ]
     },
     "execution_count": 58,
     "metadata": {},
     "output_type": "execute_result"
    }
   ],
   "source": [
    "number_of_movies = max(ratings.tmdbId)\n",
    "number_of_users = ratings.userId.unique().shape[0]\n",
    "data_matrix = sps.dok_matrix((number_of_users,number_of_movies),dtype=np.float64)\n",
    "data_matrix.shape"
   ]
  },
  {
   "cell_type": "code",
   "execution_count": 59,
   "metadata": {},
   "outputs": [],
   "source": [
    "for row in ratings.itertuples():\n",
    "    data_matrix[row[1]-1,row[3]-1] = row[2]"
   ]
  },
  {
   "cell_type": "markdown",
   "metadata": {},
   "source": [
    "Ocena koju je korisnik sa id-om $7$ dao filmu sa id-om $9909$ je $3.0$. Proverimo da li se slaže to sa našom matricom podataka."
   ]
  },
  {
   "cell_type": "code",
   "execution_count": 60,
   "metadata": {},
   "outputs": [
    {
     "name": "stdout",
     "output_type": "stream",
     "text": [
      "3.0\n"
     ]
    }
   ],
   "source": [
    "print(data_matrix[7-1,9909-1])"
   ]
  },
  {
   "cell_type": "markdown",
   "metadata": {},
   "source": [
    "Ponovo koristimo *movies_small* da bismo dobili odgovarajuće indeksiranje filmova."
   ]
  },
  {
   "cell_type": "code",
   "execution_count": 61,
   "metadata": {},
   "outputs": [
    {
     "data": {
      "text/plain": [
       "(9082, 7)"
      ]
     },
     "execution_count": 61,
     "metadata": {},
     "output_type": "execute_result"
    }
   ],
   "source": [
    "movies_small.shape"
   ]
  },
  {
   "cell_type": "code",
   "execution_count": 62,
   "metadata": {},
   "outputs": [],
   "source": [
    "movies_small = movies_small.reset_index()\n",
    "ids = movies_small['id']\n",
    "indices = pd.Series(movies_small.index,index = movies_small['id'])"
   ]
  },
  {
   "cell_type": "markdown",
   "metadata": {},
   "source": [
    "Neka je $r_u$ vektor ocena korisnika $u$, $\\mu_u$ srednja vrednost ocena korisnika $u$, $r_{ui}$ ocena korisnika $u$ za film $i$ i $sim(i,j)$ vrednost sličnosti filmova $i$ i $j$. Ocena koju sistem generiše za nekog korisnika $u$ i film $i$ se zasniva na Pirsonovom koeficijentu korelacije i data je formulom\n",
    "$ r'_{ui} = \\mu_u + \\frac{\\sum_{j}sim(i,j)(r_{j}-\\mu_u)}{\\sum_{j}sim(i,j)} $"
   ]
  },
  {
   "cell_type": "code",
   "execution_count": 102,
   "metadata": {},
   "outputs": [
    {
     "data": {
      "text/plain": [
       "False"
      ]
     },
     "execution_count": 102,
     "metadata": {},
     "output_type": "execute_result"
    }
   ],
   "source": [
    "0 in indices"
   ]
  },
  {
   "cell_type": "code",
   "execution_count": 107,
   "metadata": {},
   "outputs": [],
   "source": [
    "def prediction(r, sim, u, i):\n",
    "    rated_by_u = r[u-1].nonzero()[1]\n",
    "\n",
    "    mu_u = r[u-1, :].mean()\n",
    "    \n",
    "    if i not in indices: # ne postoji film sa tim id-om!\n",
    "        return 0\n",
    "    \n",
    "    if len(rated_by_u) == 0: # ako korisnik u nije ocenio nijedan film\n",
    "        return 0\n",
    "    \n",
    "    index = indices[i]\n",
    "\n",
    "    sum1 = 0.0\n",
    "    sum2 = 0.0\n",
    "    \n",
    "    for j in rated_by_u:\n",
    "            ind_j = indices[j+1]\n",
    "            sum1 += sim[index][ind_j] * (r[u-1,j] - mu_u)\n",
    "            sum2 += sim[index][ind_j]\n",
    "    \n",
    "    return mu_u + sum1/sum2"
   ]
  },
  {
   "cell_type": "markdown",
   "metadata": {},
   "source": [
    "Ocena koju je korisnik sa id-om $7$ dao filmu sa id-om $9909$ je $3.0$. Pogledajmo koju će ocenu predvideti naša funkcija, koristeći najpre *cos_sim1* a onda *cos_sim2* matricu sličnosti."
   ]
  },
  {
   "cell_type": "code",
   "execution_count": 104,
   "metadata": {},
   "outputs": [
    {
     "data": {
      "text/plain": [
       "3.138705890640429"
      ]
     },
     "execution_count": 104,
     "metadata": {},
     "output_type": "execute_result"
    }
   ],
   "source": [
    "prediction(data_matrix,cos_sim1,7,9909)"
   ]
  },
  {
   "cell_type": "code",
   "execution_count": 105,
   "metadata": {},
   "outputs": [
    {
     "data": {
      "text/plain": [
       "3.0657240698771147"
      ]
     },
     "execution_count": 105,
     "metadata": {},
     "output_type": "execute_result"
    }
   ],
   "source": [
    "prediction(data_matrix,cos_sim2,7,9909)"
   ]
  },
  {
   "cell_type": "markdown",
   "metadata": {},
   "source": [
    "Da bismo ukombinovali dve matrice sličnosti, računamo njihovu težinsku sumu: $w_1 * prediction_1 + w_2 * prediction_2$, gde je $prediction_1$ predviđena ocena koristeći *cos_sim1* matricu, $prediction_2$ predviđena ocena koristeći *cos_sim2* matricu i $w_2 = 1 - w_2$. Evaluiramo performanse na trening skupu koji se sastoji od 80% nasumično odabranih parova (korisnik-film, ocena). Minimizujemo RMSE (*root mean squared error*) na trening skupu.\n",
    "\n",
    "** Redukujemo skup podataka zbog tehničkih problema i predugog izvršavanja!!! **"
   ]
  },
  {
   "cell_type": "code",
   "execution_count": 66,
   "metadata": {},
   "outputs": [],
   "source": [
    "def train_test_splitting(ratings_matrix, test_size): # test_size ocena ce biti u skupu za testiranje\n",
    "    \n",
    "    ratings = ratings_matrix.toarray()\n",
    "    test = np.zeros(ratings.shape)\n",
    "    train = ratings.copy()\n",
    "    rows = (ratings != 0).sum(1)\n",
    "    \n",
    "    for user in range(ratings.shape[0]):\n",
    "        count_per_user=int(np.ceil(test_size*rows[user]))\n",
    "        test_ratings = np.random.choice(ratings[user, :].nonzero()[0], # 0 jer je nonzero primenjeno na vektor\n",
    "                                        size=count_per_user,  # indeksi na kojima nisu 0\n",
    "                                        replace=False)\n",
    "        # u trening skup se upisuju 0 na izabranim pozicijama, a u skup za testiranje se upisuju elementi \n",
    "        train[user, test_ratings] = 0\n",
    "        test[user, test_ratings] = ratings[user, test_ratings] \n",
    "        \n",
    "    # provera da li su poznate ocene ili u jednom ili u drugom skupu\n",
    "    assert(np.all((train * test) == 0)) \n",
    "    return sps.csr_matrix(train),sps.csr_matrix(test)"
   ]
  },
  {
   "cell_type": "code",
   "execution_count": 67,
   "metadata": {},
   "outputs": [
    {
     "data": {
      "text/plain": [
       "<200x300 sparse matrix of type '<class 'numpy.float64'>'\n",
       "\twith 3806 stored elements in Dictionary Of Keys format>"
      ]
     },
     "execution_count": 67,
     "metadata": {},
     "output_type": "execute_result"
    }
   ],
   "source": [
    "data_matrix_reduced = data_matrix[:200,:300]\n",
    "data_matrix_reduced"
   ]
  },
  {
   "cell_type": "code",
   "execution_count": 68,
   "metadata": {},
   "outputs": [
    {
     "data": {
      "text/plain": [
       "<200x300 sparse matrix of type '<class 'numpy.float64'>'\n",
       "\twith 2962 stored elements in Compressed Sparse Row format>"
      ]
     },
     "execution_count": 68,
     "metadata": {},
     "output_type": "execute_result"
    }
   ],
   "source": [
    "train, test = train_test_splitting(data_matrix_reduced, 0.2)\n",
    "train"
   ]
  },
  {
   "cell_type": "code",
   "execution_count": 69,
   "metadata": {},
   "outputs": [
    {
     "data": {
      "text/plain": [
       "<200x300 sparse matrix of type '<class 'numpy.float64'>'\n",
       "\twith 844 stored elements in Compressed Sparse Row format>"
      ]
     },
     "execution_count": 69,
     "metadata": {},
     "output_type": "execute_result"
    }
   ],
   "source": [
    "test"
   ]
  },
  {
   "cell_type": "code",
   "execution_count": 108,
   "metadata": {},
   "outputs": [],
   "source": [
    "predictions_1 = np.zeros(train.shape)\n",
    "predictions_2 = np.zeros(train.shape)\n",
    "\n",
    "\n",
    "for u in range(train.shape[0]):\n",
    "    for i in range(train.shape[1]):\n",
    "        predictions_1[u,i] = prediction(train,cos_sim1,u+1,i+1)\n",
    "        predictions_2[u,i] = prediction(train,cos_sim2,u+1,i+1)\n"
   ]
  },
  {
   "cell_type": "code",
   "execution_count": 110,
   "metadata": {},
   "outputs": [],
   "source": [
    "errors = np.array([])\n",
    "w1s = [0.05,0.1,0.2,0.3,0.4,0.5,0.6,0.7,0.8,0.9,1]\n",
    "\n",
    "for w1 in w1s:\n",
    "    \n",
    "    predictions = np.zeros(train.shape)\n",
    "    for i in range(predictions.shape[0]):\n",
    "        for j in range(predictions.shape[1]):\n",
    "            predictions[i,j] = w1*predictions_1[i,j] + (1 - w1)*predictions_2[i,j]\n",
    "    \n",
    "    rmse = np.sqrt(mean_squared_error(train.toarray()[train.nonzero()],predictions[train.nonzero()]))\n",
    "    errors = np.append(errors,rmse)\n"
   ]
  },
  {
   "cell_type": "code",
   "execution_count": 111,
   "metadata": {},
   "outputs": [
    {
     "data": {
      "image/png": "[encoded data removed]",
      "text/plain": [
       "<Figure size 432x288 with 1 Axes>"
      ]
     },
     "metadata": {},
     "output_type": "display_data"
    }
   ],
   "source": [
    "plt.plot(w1s,errors,'x')\n",
    "plt.xlabel('w1')\n",
    "plt.ylabel('RMSE')\n",
    "plt.show()"
   ]
  },
  {
   "cell_type": "code",
   "execution_count": 112,
   "metadata": {},
   "outputs": [
    {
     "name": "stdout",
     "output_type": "stream",
     "text": [
      "Best w1 on train set:  0.5\n"
     ]
    }
   ],
   "source": [
    "best = w1s[errors.argmin()]\n",
    "print('Best w1 on train set: ', best)"
   ]
  },
  {
   "cell_type": "code",
   "execution_count": 113,
   "metadata": {},
   "outputs": [
    {
     "name": "stdout",
     "output_type": "stream",
     "text": [
      "RMSE on train set:  0.21619159894634574\n"
     ]
    }
   ],
   "source": [
    "RMSE_train = errors.min()\n",
    "print('RMSE on train set: ',RMSE_train)"
   ]
  },
  {
   "cell_type": "code",
   "execution_count": 114,
   "metadata": {},
   "outputs": [],
   "source": [
    "w1 = best\n",
    "w2 = 1 - best"
   ]
  },
  {
   "cell_type": "markdown",
   "metadata": {},
   "source": [
    "Evaluacija na test skupu, sa $w_1 = 0.5, w_2 = 0.5$."
   ]
  },
  {
   "cell_type": "code",
   "execution_count": 115,
   "metadata": {},
   "outputs": [],
   "source": [
    "predictions_final = np.zeros(train.shape)\n",
    "for u in range(predictions_final.shape[0]):\n",
    "    for i in range(predictions_final.shape[1]):\n",
    "        predictions_final[u,i] = w1 * predictions_1[u,i] + w2 * predictions_2[u,i]\n",
    "    \n",
    "rmse_test = np.sqrt(mean_squared_error(test.toarray()[test.nonzero()],predictions_final[test.nonzero()]))"
   ]
  },
  {
   "cell_type": "code",
   "execution_count": 116,
   "metadata": {},
   "outputs": [
    {
     "name": "stdout",
     "output_type": "stream",
     "text": [
      "RMSE on test set 0.9797128942010551\n"
     ]
    }
   ],
   "source": [
    "print('RMSE on test set',rmse_test)"
   ]
  },
  {
   "cell_type": "markdown",
   "metadata": {},
   "source": [
    "Veća greška na test skupu je bila očekivana i sugeriše na preprilagođavanje."
   ]
  }
 ],
 "metadata": {
  "kernelspec": {
   "display_name": "Python 3",
   "language": "python",
   "name": "python3"
  },
  "language_info": {
   "codemirror_mode": {
    "name": "ipython",
    "version": 3
   },
   "file_extension": ".py",
   "mimetype": "text/x-python",
   "name": "python",
   "nbconvert_exporter": "python",
   "pygments_lexer": "ipython3",
   "version": "3.6.8"
  }
 },
 "nbformat": 4,
 "nbformat_minor": 2
}
